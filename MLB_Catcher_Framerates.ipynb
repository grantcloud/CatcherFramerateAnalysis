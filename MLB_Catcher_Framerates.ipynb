{
 "cells": [
  {
   "cell_type": "markdown",
   "metadata": {},
   "source": [
    "<a id='top'></a>\n",
    "# MLB Catcher Framerates\n",
    "\n",
    "#### This is a walkthrough of how I calculated MLB catcher framerates and performed statistical analysis on the framerates.\n",
    "\n",
    "#### If you want to skip to my math, [CLICK HERE](#math)\n",
    "\n",
    "#### If you want to skip to my findings, [CLICK HERE](#findings)\n",
    "\n",
    "#### If you want to download any .csv's I created, [CLICK HERE](#downloads)"
   ]
  },
  {
   "cell_type": "code",
   "execution_count": 1,
   "metadata": {
    "tags": [
     "imports"
    ]
   },
   "outputs": [],
   "source": [
    "# --- Imports --- #\n",
    "# creating .db file\n",
    "import savantscraper \n",
    "import sqlite3\n",
    "# data cleaning\n",
    "import pandas as pd\n",
    "import numpy as np\n",
    "# data visualization\n",
    "import seaborn as sns\n",
    "import matplotlib.pyplot as plt\n",
    "from scipy import stats as st\n",
    "import pylab\n",
    "# import config\n",
    "%matplotlib inline\n",
    "pd.options.mode.chained_assignment = None"
   ]
  },
  {
   "cell_type": "markdown",
   "metadata": {
    "tags": [
     "pulling"
    ]
   },
   "source": [
    "## Data Pulling:\n",
    "<p>To start, we'll pull all <span style=\"background-color: #ffffff;\">Statcast</span> data&nbsp;provided by&nbsp;MLB from 2008 through 2018.</p>\n",
    "<ul>\n",
    "<li>Statcast was introduced into the MLB in 2008 and records data on every single pitch thrown</li>\n",
    "<li>We'll use the savantscraper module to webscrape&nbsp;<a href=\"https://baseballsavant.mlb.com/\">https://baseballsavant.mlb.com</a>&nbsp;and write to a .db file</li>\n",
    "<li>Information on each stat tracked in the .db file can be found here&nbsp;<a href=\"https://baseballsavant.mlb.com/csv-docs\">https://baseballsavant.mlb.com/csv-docs</a></li>\n",
    "</ul>"
   ]
  },
  {
   "cell_type": "code",
   "execution_count": null,
   "metadata": {
    "scrolled": true
   },
   "outputs": [],
   "source": [
    "# creating the .db file\n",
    "allTeams = ['LAA', 'HOU', 'OAK', 'TOR', 'ATL', 'MIL', 'STL', 'CHC', 'ARI', \n",
    "            'LAD', 'SF', 'CLE', 'SEA', 'MIA', 'NYM', 'WSH', 'BAL', 'SD', 'PHI', 'PIT', \n",
    "            'TEX', 'TB', 'BOS', 'CIN', 'COL', 'KC', 'DET', 'MIN', 'CWS', 'NYY']\n",
    "savantscraper.database_import('baseball_savant', (2008,2019), teams=allTeams)"
   ]
  },
  {
   "cell_type": "markdown",
   "metadata": {
    "tags": [
     "csv"
    ]
   },
   "source": [
    "<p>Before we can clean the data, we need turn the baseball_savant.db file into a pandas dataframe. Let's execute a SQL query to check how much data we have in this database.</p>"
   ]
  },
  {
   "cell_type": "code",
   "execution_count": 2,
   "metadata": {},
   "outputs": [
    {
     "data": {
      "text/html": [
       "<div>\n",
       "<style scoped>\n",
       "    .dataframe tbody tr th:only-of-type {\n",
       "        vertical-align: middle;\n",
       "    }\n",
       "\n",
       "    .dataframe tbody tr th {\n",
       "        vertical-align: top;\n",
       "    }\n",
       "\n",
       "    .dataframe thead th {\n",
       "        text-align: right;\n",
       "    }\n",
       "</style>\n",
       "<table border=\"1\" class=\"dataframe\">\n",
       "  <thead>\n",
       "    <tr style=\"text-align: right;\">\n",
       "      <th></th>\n",
       "      <th>count(*)</th>\n",
       "    </tr>\n",
       "  </thead>\n",
       "  <tbody>\n",
       "    <tr>\n",
       "      <th>0</th>\n",
       "      <td>7846538</td>\n",
       "    </tr>\n",
       "  </tbody>\n",
       "</table>\n",
       "</div>"
      ],
      "text/plain": [
       "   count(*)\n",
       "0   7846538"
      ]
     },
     "execution_count": 2,
     "metadata": {},
     "output_type": "execute_result"
    }
   ],
   "source": [
    "conn = sqlite3.connect('master_statcast.db') # connect to database\n",
    "conn.text_factory = str                      # prevent an error decoding to utf8\n",
    "pd.read_sql_query(\"select count(*) from statcast;\", conn) # see how many rows we have"
   ]
  },
  {
   "cell_type": "markdown",
   "metadata": {},
   "source": [
    "<p>Python doesn't have enough available memory to store a dataframe of 7846538 rows ( x 90 columns ). Let's only grab the columns needed to calculate framerate and then split our query up into a year by year basis so we can write a .csv for each year of statcast data.</p>"
   ]
  },
  {
   "cell_type": "code",
   "execution_count": 3,
   "metadata": {},
   "outputs": [],
   "source": [
    "for year in range (2008,2019):\n",
    "   df = pd.concat([x for x in pd.read_sql_query(\"select game_date, game_type, description, fielder_2, zone, pitch_type from statcast where game_date like '{}%';\".format(year), conn, chunksize = 1000)])\n",
    "   df.to_csv('framerateDFs/framerateDF{}.csv'.format(year), index=False) # creating the .csv for each year"
   ]
  },
  {
   "cell_type": "markdown",
   "metadata": {},
   "source": [
    "<p>We can preview the 2018 dataframe to see what our .csv files look like.</p>"
   ]
  },
  {
   "cell_type": "code",
   "execution_count": 4,
   "metadata": {
    "scrolled": true
   },
   "outputs": [
    {
     "data": {
      "text/html": [
       "<div>\n",
       "<style scoped>\n",
       "    .dataframe tbody tr th:only-of-type {\n",
       "        vertical-align: middle;\n",
       "    }\n",
       "\n",
       "    .dataframe tbody tr th {\n",
       "        vertical-align: top;\n",
       "    }\n",
       "\n",
       "    .dataframe thead th {\n",
       "        text-align: right;\n",
       "    }\n",
       "</style>\n",
       "<table border=\"1\" class=\"dataframe\">\n",
       "  <thead>\n",
       "    <tr style=\"text-align: right;\">\n",
       "      <th></th>\n",
       "      <th>game_date</th>\n",
       "      <th>game_type</th>\n",
       "      <th>description</th>\n",
       "      <th>fielder_2</th>\n",
       "      <th>zone</th>\n",
       "      <th>pitch_type</th>\n",
       "    </tr>\n",
       "  </thead>\n",
       "  <tbody>\n",
       "    <tr>\n",
       "      <th>0</th>\n",
       "      <td>2018-09-30</td>\n",
       "      <td>R</td>\n",
       "      <td>hit_into_play</td>\n",
       "      <td>460269.0</td>\n",
       "      <td>8.0</td>\n",
       "      <td>CH</td>\n",
       "    </tr>\n",
       "    <tr>\n",
       "      <th>1</th>\n",
       "      <td>2018-09-30</td>\n",
       "      <td>R</td>\n",
       "      <td>foul</td>\n",
       "      <td>460269.0</td>\n",
       "      <td>6.0</td>\n",
       "      <td>FF</td>\n",
       "    </tr>\n",
       "    <tr>\n",
       "      <th>2</th>\n",
       "      <td>2018-09-30</td>\n",
       "      <td>R</td>\n",
       "      <td>called_strike</td>\n",
       "      <td>460269.0</td>\n",
       "      <td>13.0</td>\n",
       "      <td>FF</td>\n",
       "    </tr>\n",
       "    <tr>\n",
       "      <th>3</th>\n",
       "      <td>2018-09-30</td>\n",
       "      <td>R</td>\n",
       "      <td>swinging_strike</td>\n",
       "      <td>460269.0</td>\n",
       "      <td>12.0</td>\n",
       "      <td>FF</td>\n",
       "    </tr>\n",
       "    <tr>\n",
       "      <th>4</th>\n",
       "      <td>2018-09-30</td>\n",
       "      <td>R</td>\n",
       "      <td>foul</td>\n",
       "      <td>460269.0</td>\n",
       "      <td>4.0</td>\n",
       "      <td>FF</td>\n",
       "    </tr>\n",
       "  </tbody>\n",
       "</table>\n",
       "</div>"
      ],
      "text/plain": [
       "    game_date game_type      description  fielder_2  zone pitch_type\n",
       "0  2018-09-30         R    hit_into_play   460269.0   8.0         CH\n",
       "1  2018-09-30         R             foul   460269.0   6.0         FF\n",
       "2  2018-09-30         R    called_strike   460269.0  13.0         FF\n",
       "3  2018-09-30         R  swinging_strike   460269.0  12.0         FF\n",
       "4  2018-09-30         R             foul   460269.0   4.0         FF"
      ]
     },
     "execution_count": 4,
     "metadata": {},
     "output_type": "execute_result"
    }
   ],
   "source": [
    "df.head(5)"
   ]
  },
  {
   "cell_type": "markdown",
   "metadata": {},
   "source": [
    "<p>Next we need to create one big dataframe with our catcher data. A quick peek at any .csv from 2014 or earlier will reveal that there are NaN values for the <em>fielder_2</em> column.</p>"
   ]
  },
  {
   "cell_type": "code",
   "execution_count": 5,
   "metadata": {},
   "outputs": [
    {
     "data": {
      "text/html": [
       "<div>\n",
       "<style scoped>\n",
       "    .dataframe tbody tr th:only-of-type {\n",
       "        vertical-align: middle;\n",
       "    }\n",
       "\n",
       "    .dataframe tbody tr th {\n",
       "        vertical-align: top;\n",
       "    }\n",
       "\n",
       "    .dataframe thead th {\n",
       "        text-align: right;\n",
       "    }\n",
       "</style>\n",
       "<table border=\"1\" class=\"dataframe\">\n",
       "  <thead>\n",
       "    <tr style=\"text-align: right;\">\n",
       "      <th></th>\n",
       "      <th>game_date</th>\n",
       "      <th>game_type</th>\n",
       "      <th>description</th>\n",
       "      <th>fielder_2</th>\n",
       "      <th>zone</th>\n",
       "      <th>pitch_type</th>\n",
       "    </tr>\n",
       "  </thead>\n",
       "  <tbody>\n",
       "    <tr>\n",
       "      <th>0</th>\n",
       "      <td>2014-09-28</td>\n",
       "      <td>R</td>\n",
       "      <td>hit_into_play</td>\n",
       "      <td>NaN</td>\n",
       "      <td>5.0</td>\n",
       "      <td>FF</td>\n",
       "    </tr>\n",
       "    <tr>\n",
       "      <th>1</th>\n",
       "      <td>2014-09-28</td>\n",
       "      <td>R</td>\n",
       "      <td>ball</td>\n",
       "      <td>NaN</td>\n",
       "      <td>11.0</td>\n",
       "      <td>FF</td>\n",
       "    </tr>\n",
       "    <tr>\n",
       "      <th>2</th>\n",
       "      <td>2014-09-28</td>\n",
       "      <td>R</td>\n",
       "      <td>hit_into_play_score</td>\n",
       "      <td>NaN</td>\n",
       "      <td>2.0</td>\n",
       "      <td>FF</td>\n",
       "    </tr>\n",
       "    <tr>\n",
       "      <th>3</th>\n",
       "      <td>2014-09-28</td>\n",
       "      <td>R</td>\n",
       "      <td>called_strike</td>\n",
       "      <td>NaN</td>\n",
       "      <td>14.0</td>\n",
       "      <td>SL</td>\n",
       "    </tr>\n",
       "    <tr>\n",
       "      <th>4</th>\n",
       "      <td>2014-09-28</td>\n",
       "      <td>R</td>\n",
       "      <td>ball</td>\n",
       "      <td>NaN</td>\n",
       "      <td>11.0</td>\n",
       "      <td>FF</td>\n",
       "    </tr>\n",
       "  </tbody>\n",
       "</table>\n",
       "</div>"
      ],
      "text/plain": [
       "    game_date game_type          description  fielder_2  zone pitch_type\n",
       "0  2014-09-28         R        hit_into_play        NaN   5.0         FF\n",
       "1  2014-09-28         R                 ball        NaN  11.0         FF\n",
       "2  2014-09-28         R  hit_into_play_score        NaN   2.0         FF\n",
       "3  2014-09-28         R        called_strike        NaN  14.0         SL\n",
       "4  2014-09-28         R                 ball        NaN  11.0         FF"
      ]
     },
     "execution_count": 5,
     "metadata": {},
     "output_type": "execute_result"
    }
   ],
   "source": [
    "with open('framerateDFs/framerateDF2014.csv') as fin:\n",
    "    yearPitchDF = pd.read_csv(fin)\n",
    "yearPitchDF.head(5)"
   ]
  },
  {
   "cell_type": "markdown",
   "metadata": {},
   "source": [
    "<p>Turns out MLB didn't record who the catcher was on every pitch until 2015 on.</p>\n",
    "\n",
    "<p>Since there's no catcher data before 2015, our dataframe will only include statcast pitches thrown in 2015 through 2018. Let's create our big dataframe.</p>"
   ]
  },
  {
   "cell_type": "code",
   "execution_count": 6,
   "metadata": {
    "scrolled": true
   },
   "outputs": [],
   "source": [
    "for year in range(2015,2019):\n",
    "    with open('framerateDFs/framerateDF{}.csv'.format(year)) as fin:\n",
    "        yearPitchDF = pd.read_csv(fin) # creating a temporary dataframe for each year\n",
    "        if year == 2015:\n",
    "            pitchDF = yearPitchDF # initializing the dataframe\n",
    "        else:\n",
    "            pitchDF = pd.concat([pitchDF, yearPitchDF]) # appending to the dataframe"
   ]
  },
  {
   "cell_type": "markdown",
   "metadata": {},
   "source": [
    "<p>Let's preview our dataframe, view its shape, and count how many unique catchers there are.</p>"
   ]
  },
  {
   "cell_type": "code",
   "execution_count": 7,
   "metadata": {},
   "outputs": [
    {
     "name": "stdout",
     "output_type": "stream",
     "text": [
      "         game_date game_type    description  fielder_2  zone pitch_type\n",
      "595696  2015-04-05         R  hit_into_play   425877.0  12.0         FC\n",
      "310887  2015-04-05         R  called_strike   471083.0   5.0         FF\n",
      "310886  2015-04-05         R           foul   471083.0   6.0         FF\n",
      "\n",
      "         game_date game_type      description  fielder_2  zone pitch_type\n",
      "680260  2018-10-28         W  swinging_strike   543877.0   4.0         SL\n",
      "680282  2018-10-28         W  swinging_strike        NaN   NaN        NaN\n",
      "680259  2018-10-28         W  swinging_strike   543877.0  13.0         CH\n",
      "\n",
      "shape: 2902546 x 6\n",
      "\n",
      "# of unique catchers: 171\n"
     ]
    }
   ],
   "source": [
    "print(pitchDF.sort_values(by='game_date').head(3),end='\\n\\n')\n",
    "print(pitchDF.sort_values(by='game_date').tail(3))\n",
    "print('\\nshape: {} x {}'.format(pitchDF.shape[0],pitchDF.shape[1]))\n",
    "print('\\n# of unique catchers: {}'.format(len(list(pitchDF.fielder_2.unique()))))"
   ]
  },
  {
   "cell_type": "markdown",
   "metadata": {},
   "source": [
    "<p>Now that we have a .csv for each year from 2008 to 2019, we can begin cleaning our data.<p/>\n",
    "\n",
    "## Data Cleaning:\n",
    "\n",
    "<p>To clean our data we need to remove:</p>\n",
    "<ul>\n",
    "<li>any NaN values</li>\n",
    "<li>exhibition and spring training games</li>\n",
    "<li>any pitches not called by the ump (i.e. the ball was hit into play, swinging strike, HBP, etc.)</li>\n",
    "</ul>\n",
    "<p>I also go ahead and create my <em>calledPitches</em> variable. We don't need it yet, but it will come in handy later</p>"
   ]
  },
  {
   "cell_type": "code",
   "execution_count": 8,
   "metadata": {},
   "outputs": [],
   "source": [
    "pitchDF = pitchDF.dropna() # remove NaN values\n",
    "pitchDF = pitchDF[(pitchDF.game_type != 'E') & (pitchDF.game_type != 'S')] # remove exhibition and spring training games\n",
    "pitchDF = pitchDF[(pitchDF.description == 'ball') | (pitchDF.description == 'called_strike')] # keep pitches called by the ump\n",
    "calledPitches = pitchDF.shape[0]"
   ]
  },
  {
   "cell_type": "markdown",
   "metadata": {},
   "source": [
    "<p>Let's look at our cleaned up dataframe to ensure that:</p>\n",
    "<ul>\n",
    "<li>We&nbsp;only have regular season and postseason games from 2015 through 2018</li>\n",
    "<li>We only include pitches called by the ump</li>\n",
    "<li>We have no NaN values</li>\n",
    "</ul>"
   ]
  },
  {
   "cell_type": "code",
   "execution_count": 9,
   "metadata": {
    "scrolled": false
   },
   "outputs": [
    {
     "name": "stdout",
     "output_type": "stream",
     "text": [
      "         game_date game_type    description  fielder_2  zone pitch_type\n",
      "595622  2015-04-05         R           ball   425877.0  13.0         FF\n",
      "595715  2015-04-05         R  called_strike   425877.0   3.0         FC\n",
      "595714  2015-04-05         R           ball   425877.0  13.0         CU\n",
      "\n",
      "        game_date game_type    description  fielder_2  zone pitch_type\n",
      "98728  2018-10-28         W           ball   605131.0  13.0         FF\n",
      "98798  2018-10-28         W  called_strike   605131.0   4.0         SL\n",
      "98713  2018-10-28         W           ball   605131.0  11.0         FF\n",
      "\n",
      "shape: 1449381 x 6\n",
      "\n",
      "# of unique catchers: 170\n"
     ]
    }
   ],
   "source": [
    "print(pitchDF.sort_values(by='game_date').head(3),end='\\n\\n')\n",
    "print(pitchDF.sort_values(by='game_date').tail(3))\n",
    "print('\\nshape: {} x {}'.format(pitchDF.shape[0],pitchDF.shape[1]))\n",
    "print('\\n# of unique catchers: {}'.format(len(list(pitchDF.fielder_2.unique()))))"
   ]
  },
  {
   "cell_type": "markdown",
   "metadata": {},
   "source": [
    "<p>Looks like we removed one catcher from the dataset in the process of cleaning the data.</p>\n",
    "\n",
    "<p>We now have our completed pitchDF. This clean dataframe has all the information needed to perform analysis on the data later in this notebook."
   ]
  },
  {
   "cell_type": "markdown",
   "metadata": {},
   "source": [
    "<a id='math'></a>\n",
    "## Calculating Runs Above Average and Added Calls per Game by Catcher\n",
    "\n",
    "#### To view a short explanation of what perGame and RAA are before we calculate them, [CLICK HERE](#RAA)\n",
    "\n",
    "<p>&nbsp;</p>\n",
    "<p>Lets start by creating a list of every unique catcher mlb_id in our pitchDF.</p>"
   ]
  },
  {
   "cell_type": "code",
   "execution_count": 10,
   "metadata": {},
   "outputs": [
    {
     "name": "stdout",
     "output_type": "stream",
     "text": [
      "[518700, 543302, 435559, 519237, 434563]\n"
     ]
    }
   ],
   "source": [
    "catcherList = [int(x) for x in list(pitchDF.fielder_2.unique())] # list of ints for each unique catcher id in our pitchDF\n",
    "print(catcherList[:5])"
   ]
  },
  {
   "cell_type": "markdown",
   "metadata": {},
   "source": [
    "<p>Next we need to get every catcher's name. This is done using the player names and ID's .csv found at <a href=\"http://crunchtimebaseball.com/baseball_map.html\">http://crunchtimebaseball.com/baseball_map.html</a></p>\n",
    "\n",
    "NOTE: the .csv from crunchtime baseball is missing an entry for A.J. Pierzynski and will cause the script to error later on. I had to manually go in and add A.J.'s info into the .csv. My updated playerIDxref.csv can be downloaded here."
   ]
  },
  {
   "cell_type": "code",
   "execution_count": 11,
   "metadata": {},
   "outputs": [
    {
     "data": {
      "text/html": [
       "<div>\n",
       "<style scoped>\n",
       "    .dataframe tbody tr th:only-of-type {\n",
       "        vertical-align: middle;\n",
       "    }\n",
       "\n",
       "    .dataframe tbody tr th {\n",
       "        vertical-align: top;\n",
       "    }\n",
       "\n",
       "    .dataframe thead th {\n",
       "        text-align: right;\n",
       "    }\n",
       "</style>\n",
       "<table border=\"1\" class=\"dataframe\">\n",
       "  <thead>\n",
       "    <tr style=\"text-align: right;\">\n",
       "      <th></th>\n",
       "      <th>mlb_id</th>\n",
       "      <th>mlb_name</th>\n",
       "      <th>mlb_pos</th>\n",
       "      <th>mlb_team</th>\n",
       "      <th>mlb_team_long</th>\n",
       "      <th>bats</th>\n",
       "      <th>throws</th>\n",
       "      <th>birth_year</th>\n",
       "      <th>bp_id</th>\n",
       "      <th>bref_id</th>\n",
       "      <th>...</th>\n",
       "      <th>retro_name</th>\n",
       "      <th>debut</th>\n",
       "      <th>yahoo_id</th>\n",
       "      <th>yahoo_name</th>\n",
       "      <th>ottoneu_id</th>\n",
       "      <th>ottoneu_name</th>\n",
       "      <th>ottoneu_pos</th>\n",
       "      <th>rotowire_id</th>\n",
       "      <th>rotowire_name</th>\n",
       "      <th>rotowire_pos</th>\n",
       "    </tr>\n",
       "  </thead>\n",
       "  <tbody>\n",
       "    <tr>\n",
       "      <th>0</th>\n",
       "      <td>592091</td>\n",
       "      <td>A.J. Achter</td>\n",
       "      <td>P</td>\n",
       "      <td>LAA</td>\n",
       "      <td>Los Angeles Angels</td>\n",
       "      <td>R</td>\n",
       "      <td>R</td>\n",
       "      <td>1988.0</td>\n",
       "      <td>66919.0</td>\n",
       "      <td>achteaj01</td>\n",
       "      <td>...</td>\n",
       "      <td>A.J. Achter</td>\n",
       "      <td>20140903.0</td>\n",
       "      <td>9824.0</td>\n",
       "      <td>A.J. Achter</td>\n",
       "      <td>18093.0</td>\n",
       "      <td>A.J. Achter</td>\n",
       "      <td>RP</td>\n",
       "      <td>NaN</td>\n",
       "      <td>NaN</td>\n",
       "      <td>NaN</td>\n",
       "    </tr>\n",
       "    <tr>\n",
       "      <th>1</th>\n",
       "      <td>595918</td>\n",
       "      <td>A.J. Cole</td>\n",
       "      <td>P</td>\n",
       "      <td>CLE</td>\n",
       "      <td>Cleveland Indians</td>\n",
       "      <td>R</td>\n",
       "      <td>R</td>\n",
       "      <td>1992.0</td>\n",
       "      <td>68086.0</td>\n",
       "      <td>coleaj01</td>\n",
       "      <td>...</td>\n",
       "      <td>A.J. Cole</td>\n",
       "      <td>20150428.0</td>\n",
       "      <td>9638.0</td>\n",
       "      <td>A.J. Cole</td>\n",
       "      <td>14940.0</td>\n",
       "      <td>A.J. Cole</td>\n",
       "      <td>RP</td>\n",
       "      <td>11446.0</td>\n",
       "      <td>A.J. Cole</td>\n",
       "      <td>P</td>\n",
       "    </tr>\n",
       "  </tbody>\n",
       "</table>\n",
       "<p>2 rows × 35 columns</p>\n",
       "</div>"
      ],
      "text/plain": [
       "   mlb_id     mlb_name mlb_pos mlb_team       mlb_team_long bats throws  \\\n",
       "0  592091  A.J. Achter       P      LAA  Los Angeles Angels    R      R   \n",
       "1  595918    A.J. Cole       P      CLE   Cleveland Indians    R      R   \n",
       "\n",
       "   birth_year    bp_id    bref_id  ...   retro_name       debut yahoo_id  \\\n",
       "0      1988.0  66919.0  achteaj01  ...  A.J. Achter  20140903.0   9824.0   \n",
       "1      1992.0  68086.0   coleaj01  ...    A.J. Cole  20150428.0   9638.0   \n",
       "\n",
       "    yahoo_name  ottoneu_id ottoneu_name ottoneu_pos rotowire_id rotowire_name  \\\n",
       "0  A.J. Achter     18093.0  A.J. Achter          RP         NaN           NaN   \n",
       "1    A.J. Cole     14940.0    A.J. Cole          RP     11446.0     A.J. Cole   \n",
       "\n",
       "  rotowire_pos  \n",
       "0          NaN  \n",
       "1            P  \n",
       "\n",
       "[2 rows x 35 columns]"
      ]
     },
     "execution_count": 11,
     "metadata": {},
     "output_type": "execute_result"
    }
   ],
   "source": [
    "with open ('playerIDxref.csv','r') as fin:\n",
    "    nameDF = pd.read_csv(fin)    # converting the xref csv into a dataframe\n",
    "nameDF.head(2)"
   ]
  },
  {
   "cell_type": "markdown",
   "metadata": {},
   "source": [
    "<p>Now let's create a dictionary that contains a dictionary for every catcher in our catcherList. In each catcher's dictionary we need 4 values:</p>\n",
    "<ol style=\"list-style-type: lower-roman;\">\n",
    "<li>catcher name</li>\n",
    "<li># of games caught in</li>\n",
    "<li># of true balls caught</li>\n",
    "<li># of wrong strikes caught</li>\n",
    "</ol>\n",
    "<p>For this dataset, I'm defining a true ball (tBall) as a pitch that the statcast deemed a ball. A wrong strike (wStrike) is a tBall that was called a strike by the umpire. The complete pitch call matrix can be viewed below</p>\n",
    "\n",
    "![callMatrix](callMatrix1.png)"
   ]
  },
  {
   "cell_type": "code",
   "execution_count": 12,
   "metadata": {},
   "outputs": [],
   "source": [
    "catcherDict = {}\n",
    "for catcher in catcherList:\n",
    "    name = nameDF[nameDF['mlb_id'] == catcher].iloc[0,1] # getting catcher name from the xref df\n",
    "    gamesCaught = pitchDF[pitchDF['fielder_2'] == catcher].game_date.unique().shape[0] # total number of games caught in\n",
    "    tBall = pitchDF[(pitchDF.zone > 10) & (pitchDF.fielder_2 == catcher)] \n",
    "    wStrike = tBall[tBall['description'] == 'called_strike'] \n",
    "    catcherDict[catcher] = {'name': name, 'gamesCaught':gamesCaught, 'tBall':tBall.shape[0], 'wStrike':wStrike.shape[0]}"
   ]
  },
  {
   "cell_type": "markdown",
   "metadata": {},
   "source": [
    "<p>Lets preview our catcher dictionary by looking at Brian McCann.</p>"
   ]
  },
  {
   "cell_type": "code",
   "execution_count": 13,
   "metadata": {},
   "outputs": [
    {
     "data": {
      "text/plain": [
       "{'name': 'Brian McCann', 'gamesCaught': 397, 'tBall': 18241, 'wStrike': 1592}"
      ]
     },
     "execution_count": 13,
     "metadata": {},
     "output_type": "execute_result"
    }
   ],
   "source": [
    "catcherDict[435263]"
   ]
  },
  {
   "cell_type": "markdown",
   "metadata": {},
   "source": [
    "<p>Next we'll turn our catcher dictionaries into one big dataframe to track stats by catcher.</p>"
   ]
  },
  {
   "cell_type": "code",
   "execution_count": 14,
   "metadata": {},
   "outputs": [
    {
     "data": {
      "text/html": [
       "<div>\n",
       "<style scoped>\n",
       "    .dataframe tbody tr th:only-of-type {\n",
       "        vertical-align: middle;\n",
       "    }\n",
       "\n",
       "    .dataframe tbody tr th {\n",
       "        vertical-align: top;\n",
       "    }\n",
       "\n",
       "    .dataframe thead th {\n",
       "        text-align: right;\n",
       "    }\n",
       "</style>\n",
       "<table border=\"1\" class=\"dataframe\">\n",
       "  <thead>\n",
       "    <tr style=\"text-align: right;\">\n",
       "      <th></th>\n",
       "      <th>name</th>\n",
       "      <th>gamesCaught</th>\n",
       "      <th>tBall</th>\n",
       "      <th>wStrike</th>\n",
       "    </tr>\n",
       "  </thead>\n",
       "  <tbody>\n",
       "    <tr>\n",
       "      <th>150229</th>\n",
       "      <td>A.J. Pierzynski</td>\n",
       "      <td>171</td>\n",
       "      <td>7929</td>\n",
       "      <td>688</td>\n",
       "    </tr>\n",
       "    <tr>\n",
       "      <th>408042</th>\n",
       "      <td>Gerald Laird</td>\n",
       "      <td>1</td>\n",
       "      <td>30</td>\n",
       "      <td>2</td>\n",
       "    </tr>\n",
       "  </tbody>\n",
       "</table>\n",
       "</div>"
      ],
      "text/plain": [
       "                   name  gamesCaught  tBall  wStrike\n",
       "150229  A.J. Pierzynski          171   7929      688\n",
       "408042     Gerald Laird            1     30        2"
      ]
     },
     "execution_count": 14,
     "metadata": {},
     "output_type": "execute_result"
    }
   ],
   "source": [
    "catcherFR = pd.DataFrame.from_dict(catcherDict, orient='index') # df with all catcher rates since 2015\n",
    "catcherFR.head(2)"
   ]
  },
  {
   "cell_type": "markdown",
   "metadata": {},
   "source": [
    "<p>Now we can begin to crunch numbers for each catcher.  \n",
    "\n",
    "To start, let's count the stolen pitch rate (sRate) for each catcher.</p>\n",
    "\n",
    "\\begin{align*}\n",
    "sRate = \\frac{wStrike}{tBall}\n",
    "\\end{align*}"
   ]
  },
  {
   "cell_type": "code",
   "execution_count": 15,
   "metadata": {},
   "outputs": [
    {
     "data": {
      "text/html": [
       "<div>\n",
       "<style scoped>\n",
       "    .dataframe tbody tr th:only-of-type {\n",
       "        vertical-align: middle;\n",
       "    }\n",
       "\n",
       "    .dataframe tbody tr th {\n",
       "        vertical-align: top;\n",
       "    }\n",
       "\n",
       "    .dataframe thead th {\n",
       "        text-align: right;\n",
       "    }\n",
       "</style>\n",
       "<table border=\"1\" class=\"dataframe\">\n",
       "  <thead>\n",
       "    <tr style=\"text-align: right;\">\n",
       "      <th></th>\n",
       "      <th>name</th>\n",
       "      <th>gamesCaught</th>\n",
       "      <th>tBall</th>\n",
       "      <th>wStrike</th>\n",
       "      <th>sRate</th>\n",
       "    </tr>\n",
       "  </thead>\n",
       "  <tbody>\n",
       "    <tr>\n",
       "      <th>150229</th>\n",
       "      <td>A.J. Pierzynski</td>\n",
       "      <td>171</td>\n",
       "      <td>7929</td>\n",
       "      <td>688</td>\n",
       "      <td>0.086770</td>\n",
       "    </tr>\n",
       "    <tr>\n",
       "      <th>408042</th>\n",
       "      <td>Gerald Laird</td>\n",
       "      <td>1</td>\n",
       "      <td>30</td>\n",
       "      <td>2</td>\n",
       "      <td>0.066667</td>\n",
       "    </tr>\n",
       "  </tbody>\n",
       "</table>\n",
       "</div>"
      ],
      "text/plain": [
       "                   name  gamesCaught  tBall  wStrike     sRate\n",
       "150229  A.J. Pierzynski          171   7929      688  0.086770\n",
       "408042     Gerald Laird            1     30        2  0.066667"
      ]
     },
     "execution_count": 15,
     "metadata": {},
     "output_type": "execute_result"
    }
   ],
   "source": [
    "catcherFR['sRate'] = catcherFR.apply(lambda row: row.wStrike / row.tBall, axis=1) # applies the function accross every row \n",
    "catcherFR.head(2)"
   ]
  },
  {
   "cell_type": "markdown",
   "metadata": {},
   "source": [
    "<p>Now we need to calculate each catcher's blown pitch rate (<em>bRate</em>)</p>\n",
    "\\begin{align*}\n",
    "bRate = \\frac{wBall}{tStrike}\n",
    "\\end{align*}\n",
    "<p>In order to calculate bRate we first need to create the <em>tStrike</em> and <em>wBall</em> columns in our dataframe</p>"
   ]
  },
  {
   "cell_type": "code",
   "execution_count": 16,
   "metadata": {},
   "outputs": [
    {
     "data": {
      "text/html": [
       "<div>\n",
       "<style scoped>\n",
       "    .dataframe tbody tr th:only-of-type {\n",
       "        vertical-align: middle;\n",
       "    }\n",
       "\n",
       "    .dataframe tbody tr th {\n",
       "        vertical-align: top;\n",
       "    }\n",
       "\n",
       "    .dataframe thead th {\n",
       "        text-align: right;\n",
       "    }\n",
       "</style>\n",
       "<table border=\"1\" class=\"dataframe\">\n",
       "  <thead>\n",
       "    <tr style=\"text-align: right;\">\n",
       "      <th></th>\n",
       "      <th>name</th>\n",
       "      <th>gamesCaught</th>\n",
       "      <th>tBall</th>\n",
       "      <th>wStrike</th>\n",
       "      <th>sRate</th>\n",
       "      <th>tStrike</th>\n",
       "      <th>wBall</th>\n",
       "    </tr>\n",
       "  </thead>\n",
       "  <tbody>\n",
       "    <tr>\n",
       "      <th>150229</th>\n",
       "      <td>A.J. Pierzynski</td>\n",
       "      <td>171</td>\n",
       "      <td>7929</td>\n",
       "      <td>688</td>\n",
       "      <td>0.086770</td>\n",
       "      <td>0</td>\n",
       "      <td>0</td>\n",
       "    </tr>\n",
       "    <tr>\n",
       "      <th>408042</th>\n",
       "      <td>Gerald Laird</td>\n",
       "      <td>1</td>\n",
       "      <td>30</td>\n",
       "      <td>2</td>\n",
       "      <td>0.066667</td>\n",
       "      <td>0</td>\n",
       "      <td>0</td>\n",
       "    </tr>\n",
       "  </tbody>\n",
       "</table>\n",
       "</div>"
      ],
      "text/plain": [
       "                   name  gamesCaught  tBall  wStrike     sRate  tStrike  wBall\n",
       "150229  A.J. Pierzynski          171   7929      688  0.086770        0      0\n",
       "408042     Gerald Laird            1     30        2  0.066667        0      0"
      ]
     },
     "execution_count": 16,
     "metadata": {},
     "output_type": "execute_result"
    }
   ],
   "source": [
    "catcherFR['tStrike'] = 0\n",
    "catcherFR['wBall'] = 0\n",
    "catcherFR.head(2)"
   ]
  },
  {
   "cell_type": "markdown",
   "metadata": {},
   "source": [
    "<p>Next, let's update each catcher's&nbsp;<em>tStrike&nbsp;</em>and&nbsp;<em>wBall</em> in the datframe.</p>"
   ]
  },
  {
   "cell_type": "code",
   "execution_count": 17,
   "metadata": {},
   "outputs": [
    {
     "data": {
      "text/html": [
       "<div>\n",
       "<style scoped>\n",
       "    .dataframe tbody tr th:only-of-type {\n",
       "        vertical-align: middle;\n",
       "    }\n",
       "\n",
       "    .dataframe tbody tr th {\n",
       "        vertical-align: top;\n",
       "    }\n",
       "\n",
       "    .dataframe thead th {\n",
       "        text-align: right;\n",
       "    }\n",
       "</style>\n",
       "<table border=\"1\" class=\"dataframe\">\n",
       "  <thead>\n",
       "    <tr style=\"text-align: right;\">\n",
       "      <th></th>\n",
       "      <th>name</th>\n",
       "      <th>gamesCaught</th>\n",
       "      <th>tBall</th>\n",
       "      <th>wStrike</th>\n",
       "      <th>sRate</th>\n",
       "      <th>tStrike</th>\n",
       "      <th>wBall</th>\n",
       "    </tr>\n",
       "  </thead>\n",
       "  <tbody>\n",
       "    <tr>\n",
       "      <th>150229</th>\n",
       "      <td>A.J. Pierzynski</td>\n",
       "      <td>171</td>\n",
       "      <td>7929</td>\n",
       "      <td>688</td>\n",
       "      <td>0.086770</td>\n",
       "      <td>3916</td>\n",
       "      <td>743</td>\n",
       "    </tr>\n",
       "    <tr>\n",
       "      <th>408042</th>\n",
       "      <td>Gerald Laird</td>\n",
       "      <td>1</td>\n",
       "      <td>30</td>\n",
       "      <td>2</td>\n",
       "      <td>0.066667</td>\n",
       "      <td>9</td>\n",
       "      <td>3</td>\n",
       "    </tr>\n",
       "  </tbody>\n",
       "</table>\n",
       "</div>"
      ],
      "text/plain": [
       "                   name  gamesCaught  tBall  wStrike     sRate  tStrike  wBall\n",
       "150229  A.J. Pierzynski          171   7929      688  0.086770     3916    743\n",
       "408042     Gerald Laird            1     30        2  0.066667        9      3"
      ]
     },
     "execution_count": 17,
     "metadata": {},
     "output_type": "execute_result"
    }
   ],
   "source": [
    "for catcher in catcherDict:\n",
    "    catcherFR.loc[catcherFR.index == catcher, 'tStrike'] = pitchDF[(pitchDF.zone < 10) & (pitchDF.fielder_2 == catcher)].shape[0] \n",
    "    catcherFR.loc[catcherFR.index == catcher, 'wBall'] = pitchDF[(pitchDF.zone < 10) & (pitchDF.fielder_2 == catcher) & (pitchDF.description == 'ball')].shape[0]\n",
    "catcherFR.head(2)"
   ]
  },
  {
   "cell_type": "markdown",
   "metadata": {},
   "source": [
    "<p>Let's appened each catcher's <em>bRate</em> to the dataframe.</p>"
   ]
  },
  {
   "cell_type": "code",
   "execution_count": 18,
   "metadata": {},
   "outputs": [
    {
     "data": {
      "text/html": [
       "<div>\n",
       "<style scoped>\n",
       "    .dataframe tbody tr th:only-of-type {\n",
       "        vertical-align: middle;\n",
       "    }\n",
       "\n",
       "    .dataframe tbody tr th {\n",
       "        vertical-align: top;\n",
       "    }\n",
       "\n",
       "    .dataframe thead th {\n",
       "        text-align: right;\n",
       "    }\n",
       "</style>\n",
       "<table border=\"1\" class=\"dataframe\">\n",
       "  <thead>\n",
       "    <tr style=\"text-align: right;\">\n",
       "      <th></th>\n",
       "      <th>name</th>\n",
       "      <th>gamesCaught</th>\n",
       "      <th>tBall</th>\n",
       "      <th>wStrike</th>\n",
       "      <th>sRate</th>\n",
       "      <th>tStrike</th>\n",
       "      <th>wBall</th>\n",
       "      <th>bRate</th>\n",
       "    </tr>\n",
       "  </thead>\n",
       "  <tbody>\n",
       "    <tr>\n",
       "      <th>150229</th>\n",
       "      <td>A.J. Pierzynski</td>\n",
       "      <td>171</td>\n",
       "      <td>7929</td>\n",
       "      <td>688</td>\n",
       "      <td>0.086770</td>\n",
       "      <td>3916</td>\n",
       "      <td>743</td>\n",
       "      <td>0.189734</td>\n",
       "    </tr>\n",
       "    <tr>\n",
       "      <th>408042</th>\n",
       "      <td>Gerald Laird</td>\n",
       "      <td>1</td>\n",
       "      <td>30</td>\n",
       "      <td>2</td>\n",
       "      <td>0.066667</td>\n",
       "      <td>9</td>\n",
       "      <td>3</td>\n",
       "      <td>0.333333</td>\n",
       "    </tr>\n",
       "  </tbody>\n",
       "</table>\n",
       "</div>"
      ],
      "text/plain": [
       "                   name  gamesCaught  tBall  wStrike     sRate  tStrike  \\\n",
       "150229  A.J. Pierzynski          171   7929      688  0.086770     3916   \n",
       "408042     Gerald Laird            1     30        2  0.066667        9   \n",
       "\n",
       "        wBall     bRate  \n",
       "150229    743  0.189734  \n",
       "408042      3  0.333333  "
      ]
     },
     "execution_count": 18,
     "metadata": {},
     "output_type": "execute_result"
    }
   ],
   "source": [
    "catcherFR = catcherFR[catcherFR['tStrike'] != 0] # remove any catcher who hasn't caught a strike to avoid division by 0 error\n",
    "catcherFR['bRate'] = catcherFR.apply(lambda row: row.wBall / row.tStrike, axis=1)\n",
    "catcherFR.head(2)"
   ]
  },
  {
   "cell_type": "markdown",
   "metadata": {},
   "source": [
    "<p>Our dataframe currently includes catchers who only caught one game. Let's filter out all catchers with less than 50 games played.</p>"
   ]
  },
  {
   "cell_type": "code",
   "execution_count": 19,
   "metadata": {},
   "outputs": [
    {
     "name": "stdout",
     "output_type": "stream",
     "text": [
      "# of Catchers: 169\n",
      "# of Catchers with > 50 games caught: 100\n"
     ]
    }
   ],
   "source": [
    "print('# of Catchers: {}'.format(catcherFR.shape[0]))\n",
    "catcherFR = catcherFR[catcherFR['gamesCaught'] >= 50] # only include catchers with at least 50 games caught in\n",
    "print('# of Catchers with > 50 games caught: {}'.format(catcherFR.shape[0]))"
   ]
  },
  {
   "cell_type": "markdown",
   "metadata": {},
   "source": [
    "<p>Next we need to calculate league average rates for <em>sRate</em> and for <em>bRate</em>. Even though it's repetitive, lets append the league averages to each row of our dataframe so we can perform row operations for our remaining calculations.</p>"
   ]
  },
  {
   "cell_type": "code",
   "execution_count": 20,
   "metadata": {},
   "outputs": [
    {
     "data": {
      "text/html": [
       "<div>\n",
       "<style scoped>\n",
       "    .dataframe tbody tr th:only-of-type {\n",
       "        vertical-align: middle;\n",
       "    }\n",
       "\n",
       "    .dataframe tbody tr th {\n",
       "        vertical-align: top;\n",
       "    }\n",
       "\n",
       "    .dataframe thead th {\n",
       "        text-align: right;\n",
       "    }\n",
       "</style>\n",
       "<table border=\"1\" class=\"dataframe\">\n",
       "  <thead>\n",
       "    <tr style=\"text-align: right;\">\n",
       "      <th></th>\n",
       "      <th>name</th>\n",
       "      <th>gamesCaught</th>\n",
       "      <th>tBall</th>\n",
       "      <th>wStrike</th>\n",
       "      <th>sRate</th>\n",
       "      <th>tStrike</th>\n",
       "      <th>wBall</th>\n",
       "      <th>bRate</th>\n",
       "      <th>leagueSR</th>\n",
       "      <th>leagueBR</th>\n",
       "    </tr>\n",
       "  </thead>\n",
       "  <tbody>\n",
       "    <tr>\n",
       "      <th>150229</th>\n",
       "      <td>A.J. Pierzynski</td>\n",
       "      <td>171</td>\n",
       "      <td>7929</td>\n",
       "      <td>688</td>\n",
       "      <td>0.08677</td>\n",
       "      <td>3916</td>\n",
       "      <td>743</td>\n",
       "      <td>0.189734</td>\n",
       "      <td>0.082945</td>\n",
       "      <td>0.151302</td>\n",
       "    </tr>\n",
       "    <tr>\n",
       "      <th>424325</th>\n",
       "      <td>David Ross</td>\n",
       "      <td>128</td>\n",
       "      <td>5050</td>\n",
       "      <td>505</td>\n",
       "      <td>0.10000</td>\n",
       "      <td>2338</td>\n",
       "      <td>323</td>\n",
       "      <td>0.138152</td>\n",
       "      <td>0.082945</td>\n",
       "      <td>0.151302</td>\n",
       "    </tr>\n",
       "  </tbody>\n",
       "</table>\n",
       "</div>"
      ],
      "text/plain": [
       "                   name  gamesCaught  tBall  wStrike    sRate  tStrike  wBall  \\\n",
       "150229  A.J. Pierzynski          171   7929      688  0.08677     3916    743   \n",
       "424325       David Ross          128   5050      505  0.10000     2338    323   \n",
       "\n",
       "           bRate  leagueSR  leagueBR  \n",
       "150229  0.189734  0.082945  0.151302  \n",
       "424325  0.138152  0.082945  0.151302  "
      ]
     },
     "execution_count": 20,
     "metadata": {},
     "output_type": "execute_result"
    }
   ],
   "source": [
    "catcherFR['leagueSR'] = catcherFR.loc[:,['sRate']].describe().iloc[1,0] # grabbing the mean of the sRate column\n",
    "catcherFR['leagueBR'] = catcherFR.loc[:,['bRate']].describe().iloc[1,0] # grabbing the mean of the bRate column\n",
    "catcherFR.head(2)"
   ]
  },
  {
   "cell_type": "markdown",
   "metadata": {},
   "source": [
    "<p>Now we can calculate the difference between each catcher's <em>sRate</em> and <em>leagueSR</em>, as well as the difference between <em>bRate</em> and <em>leagueBR</em>.</p>\n",
    "\n",
    "\\begin{align*}\n",
    "srDiff = sRate - leagueSR\n",
    "\\end{align*}\n",
    "\\begin{align*}\n",
    "brDiff = bRate - leagueBR\n",
    "\\end{align*}\n"
   ]
  },
  {
   "cell_type": "code",
   "execution_count": 21,
   "metadata": {},
   "outputs": [
    {
     "data": {
      "text/html": [
       "<div>\n",
       "<style scoped>\n",
       "    .dataframe tbody tr th:only-of-type {\n",
       "        vertical-align: middle;\n",
       "    }\n",
       "\n",
       "    .dataframe tbody tr th {\n",
       "        vertical-align: top;\n",
       "    }\n",
       "\n",
       "    .dataframe thead th {\n",
       "        text-align: right;\n",
       "    }\n",
       "</style>\n",
       "<table border=\"1\" class=\"dataframe\">\n",
       "  <thead>\n",
       "    <tr style=\"text-align: right;\">\n",
       "      <th></th>\n",
       "      <th>name</th>\n",
       "      <th>gamesCaught</th>\n",
       "      <th>tBall</th>\n",
       "      <th>wStrike</th>\n",
       "      <th>sRate</th>\n",
       "      <th>tStrike</th>\n",
       "      <th>wBall</th>\n",
       "      <th>bRate</th>\n",
       "      <th>leagueSR</th>\n",
       "      <th>leagueBR</th>\n",
       "      <th>srDiff</th>\n",
       "      <th>brDiff</th>\n",
       "    </tr>\n",
       "  </thead>\n",
       "  <tbody>\n",
       "    <tr>\n",
       "      <th>150229</th>\n",
       "      <td>A.J. Pierzynski</td>\n",
       "      <td>171</td>\n",
       "      <td>7929</td>\n",
       "      <td>688</td>\n",
       "      <td>0.08677</td>\n",
       "      <td>3916</td>\n",
       "      <td>743</td>\n",
       "      <td>0.189734</td>\n",
       "      <td>0.082945</td>\n",
       "      <td>0.151302</td>\n",
       "      <td>0.003825</td>\n",
       "      <td>0.038433</td>\n",
       "    </tr>\n",
       "    <tr>\n",
       "      <th>424325</th>\n",
       "      <td>David Ross</td>\n",
       "      <td>128</td>\n",
       "      <td>5050</td>\n",
       "      <td>505</td>\n",
       "      <td>0.10000</td>\n",
       "      <td>2338</td>\n",
       "      <td>323</td>\n",
       "      <td>0.138152</td>\n",
       "      <td>0.082945</td>\n",
       "      <td>0.151302</td>\n",
       "      <td>0.017055</td>\n",
       "      <td>-0.013150</td>\n",
       "    </tr>\n",
       "  </tbody>\n",
       "</table>\n",
       "</div>"
      ],
      "text/plain": [
       "                   name  gamesCaught  tBall  wStrike    sRate  tStrike  wBall  \\\n",
       "150229  A.J. Pierzynski          171   7929      688  0.08677     3916    743   \n",
       "424325       David Ross          128   5050      505  0.10000     2338    323   \n",
       "\n",
       "           bRate  leagueSR  leagueBR    srDiff    brDiff  \n",
       "150229  0.189734  0.082945  0.151302  0.003825  0.038433  \n",
       "424325  0.138152  0.082945  0.151302  0.017055 -0.013150  "
      ]
     },
     "execution_count": 21,
     "metadata": {},
     "output_type": "execute_result"
    }
   ],
   "source": [
    "catcherFR['srDiff'] = catcherFR.apply(lambda row: row.sRate - row.leagueSR, axis=1)\n",
    "catcherFR['brDiff'] = catcherFR.apply(lambda row: row.bRate - row.leagueBR, axis=1)\n",
    "catcherFR.head(2)"
   ]
  },
  {
   "cell_type": "markdown",
   "metadata": {},
   "source": [
    "<p>By multiplying a catcher's <em>srDiff</em> by <em>tBall</em> we can calculate the number of extra strikes that catcher received in comparison to the expected number of called strikes for a league 'average' catcher. The same math can be applied to <em>brDiff</em> and <em>tStrike</em> to calculate the number of extra balls a catcher received in comparison to the expected number of called balls for a league 'average' catcher.</p>\n",
    "\n",
    "\\begin{align*}\n",
    "extraStr = srDiff * tBall\n",
    "\\end{align*}\n",
    "\\begin{align*}\n",
    "extraBall = brDiff * tStrike\n",
    "\\end{align*}\n"
   ]
  },
  {
   "cell_type": "code",
   "execution_count": 22,
   "metadata": {},
   "outputs": [
    {
     "data": {
      "text/html": [
       "<div>\n",
       "<style scoped>\n",
       "    .dataframe tbody tr th:only-of-type {\n",
       "        vertical-align: middle;\n",
       "    }\n",
       "\n",
       "    .dataframe tbody tr th {\n",
       "        vertical-align: top;\n",
       "    }\n",
       "\n",
       "    .dataframe thead th {\n",
       "        text-align: right;\n",
       "    }\n",
       "</style>\n",
       "<table border=\"1\" class=\"dataframe\">\n",
       "  <thead>\n",
       "    <tr style=\"text-align: right;\">\n",
       "      <th></th>\n",
       "      <th>name</th>\n",
       "      <th>tBall</th>\n",
       "      <th>extraStr</th>\n",
       "      <th>tStrike</th>\n",
       "      <th>extraBall</th>\n",
       "    </tr>\n",
       "  </thead>\n",
       "  <tbody>\n",
       "    <tr>\n",
       "      <th>150229</th>\n",
       "      <td>A.J. Pierzynski</td>\n",
       "      <td>7929</td>\n",
       "      <td>30.327250</td>\n",
       "      <td>3916</td>\n",
       "      <td>150.502106</td>\n",
       "    </tr>\n",
       "    <tr>\n",
       "      <th>424325</th>\n",
       "      <td>David Ross</td>\n",
       "      <td>5050</td>\n",
       "      <td>86.126575</td>\n",
       "      <td>2338</td>\n",
       "      <td>-30.743635</td>\n",
       "    </tr>\n",
       "  </tbody>\n",
       "</table>\n",
       "</div>"
      ],
      "text/plain": [
       "                   name  tBall   extraStr  tStrike   extraBall\n",
       "150229  A.J. Pierzynski   7929  30.327250     3916  150.502106\n",
       "424325       David Ross   5050  86.126575     2338  -30.743635"
      ]
     },
     "execution_count": 22,
     "metadata": {},
     "output_type": "execute_result"
    }
   ],
   "source": [
    "catcherFR['extraStr'] = catcherFR.apply(lambda row: row.srDiff * row.tBall, axis=1)\n",
    "catcherFR['extraBall'] = catcherFR.apply(lambda row: row.brDiff * row.tStrike, axis=1)\n",
    "catcherFR.loc[:,['name','tBall','extraStr','tStrike','extraBall']].head(2)"
   ]
  },
  {
   "cell_type": "markdown",
   "metadata": {},
   "source": [
    "<p>Just to reiterate what <em>extraStr</em> and <em>extraBall</em> are, David Ross caught 5050 true balls. Of those 5050 true balls, David Ross got 86 more strike calls than a catcher who has an <em>sRate</em> equal to the average <em>sRate</em> for all catchers in the league would have gotten.</p>\n",
    "\n",
    "<p>Now we can calculate the difference between <em>extraStr</em> and <em>extraBall</em> to get a <em>netExtra</em>, that is, the number of additional strikes a catcher has gotten compared to if a league 'average' catcher had been behind the plate.</p>\n",
    "\n",
    "\\begin{align*}\n",
    "netExtra = extraStr - extraBall\n",
    "\\end{align*}"
   ]
  },
  {
   "cell_type": "code",
   "execution_count": 23,
   "metadata": {},
   "outputs": [
    {
     "data": {
      "text/html": [
       "<div>\n",
       "<style scoped>\n",
       "    .dataframe tbody tr th:only-of-type {\n",
       "        vertical-align: middle;\n",
       "    }\n",
       "\n",
       "    .dataframe tbody tr th {\n",
       "        vertical-align: top;\n",
       "    }\n",
       "\n",
       "    .dataframe thead th {\n",
       "        text-align: right;\n",
       "    }\n",
       "</style>\n",
       "<table border=\"1\" class=\"dataframe\">\n",
       "  <thead>\n",
       "    <tr style=\"text-align: right;\">\n",
       "      <th></th>\n",
       "      <th>name</th>\n",
       "      <th>extraStr</th>\n",
       "      <th>extraBall</th>\n",
       "      <th>netExtra</th>\n",
       "    </tr>\n",
       "  </thead>\n",
       "  <tbody>\n",
       "    <tr>\n",
       "      <th>150229</th>\n",
       "      <td>A.J. Pierzynski</td>\n",
       "      <td>30.327250</td>\n",
       "      <td>150.502106</td>\n",
       "      <td>-120.174857</td>\n",
       "    </tr>\n",
       "    <tr>\n",
       "      <th>424325</th>\n",
       "      <td>David Ross</td>\n",
       "      <td>86.126575</td>\n",
       "      <td>-30.743635</td>\n",
       "      <td>116.870210</td>\n",
       "    </tr>\n",
       "  </tbody>\n",
       "</table>\n",
       "</div>"
      ],
      "text/plain": [
       "                   name   extraStr   extraBall    netExtra\n",
       "150229  A.J. Pierzynski  30.327250  150.502106 -120.174857\n",
       "424325       David Ross  86.126575  -30.743635  116.870210"
      ]
     },
     "execution_count": 23,
     "metadata": {},
     "output_type": "execute_result"
    }
   ],
   "source": [
    "catcherFR['netExtra'] = catcherFR.apply(lambda row: row.extraStr - row.extraBall, axis=1)\n",
    "catcherFR.loc[:,['name','extraStr','extraBall','netExtra']].head(2)"
   ]
  },
  {
   "cell_type": "markdown",
   "metadata": {},
   "source": [
    "<p>Lets calculate the total number of pitches each catcher has caught and then divide our <em>netExtra</em> by the total number of pitches caught to come up with <em>extraRate</em>, the rate at which each catcher gets a strike call that the league 'average' catcher would not have gotten. It is implied that a catcher with a negative <em>netExtra</em> loses more calls than the league 'average' catcher would.</p>\n",
    "\n",
    "\\begin{align*}\n",
    "extraRate = \\frac{netExtra}{pitchTotal}\n",
    "\\end{align*}\n"
   ]
  },
  {
   "cell_type": "code",
   "execution_count": 24,
   "metadata": {},
   "outputs": [
    {
     "data": {
      "text/html": [
       "<div>\n",
       "<style scoped>\n",
       "    .dataframe tbody tr th:only-of-type {\n",
       "        vertical-align: middle;\n",
       "    }\n",
       "\n",
       "    .dataframe tbody tr th {\n",
       "        vertical-align: top;\n",
       "    }\n",
       "\n",
       "    .dataframe thead th {\n",
       "        text-align: right;\n",
       "    }\n",
       "</style>\n",
       "<table border=\"1\" class=\"dataframe\">\n",
       "  <thead>\n",
       "    <tr style=\"text-align: right;\">\n",
       "      <th></th>\n",
       "      <th>name</th>\n",
       "      <th>pitchTotal</th>\n",
       "      <th>extraRate</th>\n",
       "    </tr>\n",
       "  </thead>\n",
       "  <tbody>\n",
       "    <tr>\n",
       "      <th>150229</th>\n",
       "      <td>A.J. Pierzynski</td>\n",
       "      <td>11845</td>\n",
       "      <td>-0.010146</td>\n",
       "    </tr>\n",
       "    <tr>\n",
       "      <th>424325</th>\n",
       "      <td>David Ross</td>\n",
       "      <td>7388</td>\n",
       "      <td>0.015819</td>\n",
       "    </tr>\n",
       "  </tbody>\n",
       "</table>\n",
       "</div>"
      ],
      "text/plain": [
       "                   name  pitchTotal  extraRate\n",
       "150229  A.J. Pierzynski       11845  -0.010146\n",
       "424325       David Ross        7388   0.015819"
      ]
     },
     "execution_count": 24,
     "metadata": {},
     "output_type": "execute_result"
    }
   ],
   "source": [
    "catcherFR['pitchTotal'] = catcherFR.apply(lambda row: row.tBall + row.tStrike, axis=1)\n",
    "catcherFR['extraRate'] = catcherFR.apply(lambda row: row.netExtra / row.pitchTotal, axis=1)\n",
    "catcherFR.loc[:,['name','pitchTotal','extraRate']].head(2)"
   ]
  },
  {
   "cell_type": "markdown",
   "metadata": {},
   "source": [
    "<p>Finally, we can multiply <em>extraRate</em> by the average number of called pitches a catcher catches each game to find out their <em>perGame</em> rates. Before we can do that though, we need to calculate the average number of called pitches a catcher catches each game. Remember the start of this notebook where I said we would need the calledPitches variable? Well now lets put it to use.</p>"
   ]
  },
  {
   "cell_type": "code",
   "execution_count": 25,
   "metadata": {},
   "outputs": [
    {
     "data": {
      "text/plain": [
       "73"
      ]
     },
     "execution_count": 25,
     "metadata": {},
     "output_type": "execute_result"
    }
   ],
   "source": [
    "totalGames = (2430 * 4) + (36 + 35 + 38 + 33) # hard coded the number of postseason games for each season\n",
    "calledPerGame = int(calledPitches / totalGames / 2) # total called in a game split since each catchers catches half on average\n",
    "calledPerGame"
   ]
  },
  {
   "cell_type": "markdown",
   "metadata": {},
   "source": [
    "<p>It's worth noting that my calculated value of 73 called pitches per game is lower than the average called per game value that statcorner uses in their calculations (they use 78, but I couldn't find where they got that number from). This discrepency may be due to the fact that I filtered out any rows with a NaN value from the original pitchDF before I counted <em>calledPitches</em>. This discrepency won't impact the rankings or variance of the data, but might result in a lower mean <em>RAA</em> and <em>perGame</em> value than statcorner calculates.</p>\n",
    "\n",
    "<p>Finally, lets multiply <em>extraRate</em> with <em>calledPerGame</em> to crunch our <em>perGame</em> value for each catcher.We can also multiply each catcher's <em>perGame</em> rate with their total games caught to calculate each catcher's <em>RAA</em> from 2015 through 2018. More information on what RAA is and where it is flawed is available in the data analysis section.</p>\n",
    "\n",
    "\\begin{align*}\n",
    "perGame = extraRate * calledPerGame\n",
    "\\end{align*}\n",
    "\\begin{align*}\n",
    "RAA = perGame * gamesCaught\n",
    "\\end{align*}\n"
   ]
  },
  {
   "cell_type": "code",
   "execution_count": 26,
   "metadata": {},
   "outputs": [
    {
     "data": {
      "text/html": [
       "<div>\n",
       "<style scoped>\n",
       "    .dataframe tbody tr th:only-of-type {\n",
       "        vertical-align: middle;\n",
       "    }\n",
       "\n",
       "    .dataframe tbody tr th {\n",
       "        vertical-align: top;\n",
       "    }\n",
       "\n",
       "    .dataframe thead th {\n",
       "        text-align: right;\n",
       "    }\n",
       "</style>\n",
       "<table border=\"1\" class=\"dataframe\">\n",
       "  <thead>\n",
       "    <tr style=\"text-align: right;\">\n",
       "      <th></th>\n",
       "      <th>name</th>\n",
       "      <th>perGame</th>\n",
       "      <th>RAA</th>\n",
       "    </tr>\n",
       "  </thead>\n",
       "  <tbody>\n",
       "    <tr>\n",
       "      <th>150229</th>\n",
       "      <td>A.J. Pierzynski</td>\n",
       "      <td>-0.740630</td>\n",
       "      <td>-16.844152</td>\n",
       "    </tr>\n",
       "    <tr>\n",
       "      <th>424325</th>\n",
       "      <td>David Ross</td>\n",
       "      <td>1.154781</td>\n",
       "      <td>19.658999</td>\n",
       "    </tr>\n",
       "  </tbody>\n",
       "</table>\n",
       "</div>"
      ],
      "text/plain": [
       "                   name   perGame        RAA\n",
       "150229  A.J. Pierzynski -0.740630 -16.844152\n",
       "424325       David Ross  1.154781  19.658999"
      ]
     },
     "execution_count": 26,
     "metadata": {},
     "output_type": "execute_result"
    }
   ],
   "source": [
    "catcherFR['perGame'] = catcherFR.apply(lambda row: row.extraRate * calledPerGame, axis=1)\n",
    "catcherFR['RAA'] = catcherFR.apply(lambda row: row.gamesCaught * row.perGame * 0.133, axis=1)\n",
    "catcherFR.loc[:,['name','perGame','RAA']].head(2)"
   ]
  },
  {
   "cell_type": "markdown",
   "metadata": {},
   "source": [
    "<p>Now that we have our final dataframe populated with data, lets pretty it up. We need to sort the dataframe by <em>RAA</em>, add rankings to each catcher and name their <em>mlb_id</em> column.</p>"
   ]
  },
  {
   "cell_type": "code",
   "execution_count": 27,
   "metadata": {
    "scrolled": true
   },
   "outputs": [],
   "source": [
    "catcherFR = catcherFR.loc[:,['name','perGame','RAA']].sort_values(by='RAA', ascending=False)\n",
    "catcherFR = catcherFR.reset_index()\n",
    "catcherFR = catcherFR.rename(columns={\"index\": \"mlb_id\"})\n",
    "catcherFR.index += 1"
   ]
  },
  {
   "cell_type": "markdown",
   "metadata": {},
   "source": [
    "<p>Let's view our final dataframe</p>"
   ]
  },
  {
   "cell_type": "code",
   "execution_count": 28,
   "metadata": {
    "scrolled": true
   },
   "outputs": [
    {
     "data": {
      "text/html": [
       "<div>\n",
       "<style scoped>\n",
       "    .dataframe tbody tr th:only-of-type {\n",
       "        vertical-align: middle;\n",
       "    }\n",
       "\n",
       "    .dataframe tbody tr th {\n",
       "        vertical-align: top;\n",
       "    }\n",
       "\n",
       "    .dataframe thead th {\n",
       "        text-align: right;\n",
       "    }\n",
       "</style>\n",
       "<table border=\"1\" class=\"dataframe\">\n",
       "  <thead>\n",
       "    <tr style=\"text-align: right;\">\n",
       "      <th></th>\n",
       "      <th>mlb_id</th>\n",
       "      <th>name</th>\n",
       "      <th>perGame</th>\n",
       "      <th>RAA</th>\n",
       "    </tr>\n",
       "  </thead>\n",
       "  <tbody>\n",
       "    <tr>\n",
       "      <th>1</th>\n",
       "      <td>518735</td>\n",
       "      <td>Yasmani Grandal</td>\n",
       "      <td>1.563085</td>\n",
       "      <td>103.945129</td>\n",
       "    </tr>\n",
       "    <tr>\n",
       "      <th>2</th>\n",
       "      <td>452095</td>\n",
       "      <td>Tyler Flowers</td>\n",
       "      <td>1.693622</td>\n",
       "      <td>79.288605</td>\n",
       "    </tr>\n",
       "    <tr>\n",
       "      <th>3</th>\n",
       "      <td>457763</td>\n",
       "      <td>Buster Posey</td>\n",
       "      <td>1.331269</td>\n",
       "      <td>73.833497</td>\n",
       "    </tr>\n",
       "    <tr>\n",
       "      <th>4</th>\n",
       "      <td>455117</td>\n",
       "      <td>Martin Maldonado</td>\n",
       "      <td>1.061045</td>\n",
       "      <td>57.012069</td>\n",
       "    </tr>\n",
       "    <tr>\n",
       "      <th>5</th>\n",
       "      <td>595978</td>\n",
       "      <td>Austin Hedges</td>\n",
       "      <td>1.288708</td>\n",
       "      <td>43.020932</td>\n",
       "    </tr>\n",
       "    <tr>\n",
       "      <th>6</th>\n",
       "      <td>425877</td>\n",
       "      <td>Yadier Molina</td>\n",
       "      <td>0.574160</td>\n",
       "      <td>40.701652</td>\n",
       "    </tr>\n",
       "    <tr>\n",
       "      <th>7</th>\n",
       "      <td>425772</td>\n",
       "      <td>Jeff Mathis</td>\n",
       "      <td>1.555466</td>\n",
       "      <td>39.720388</td>\n",
       "    </tr>\n",
       "    <tr>\n",
       "      <th>8</th>\n",
       "      <td>465041</td>\n",
       "      <td>Francisco Cervelli</td>\n",
       "      <td>0.752091</td>\n",
       "      <td>39.210997</td>\n",
       "    </tr>\n",
       "    <tr>\n",
       "      <th>9</th>\n",
       "      <td>488771</td>\n",
       "      <td>Jason Castro</td>\n",
       "      <td>0.821298</td>\n",
       "      <td>37.794488</td>\n",
       "    </tr>\n",
       "    <tr>\n",
       "      <th>10</th>\n",
       "      <td>518595</td>\n",
       "      <td>Travis d'Arnaud</td>\n",
       "      <td>1.125489</td>\n",
       "      <td>36.973441</td>\n",
       "    </tr>\n",
       "    <tr>\n",
       "      <th>11</th>\n",
       "      <td>471083</td>\n",
       "      <td>Miguel Montero</td>\n",
       "      <td>1.085342</td>\n",
       "      <td>35.943261</td>\n",
       "    </tr>\n",
       "    <tr>\n",
       "      <th>12</th>\n",
       "      <td>572287</td>\n",
       "      <td>Mike Zunino</td>\n",
       "      <td>0.683191</td>\n",
       "      <td>35.891460</td>\n",
       "    </tr>\n",
       "    <tr>\n",
       "      <th>13</th>\n",
       "      <td>547379</td>\n",
       "      <td>Roberto Perez</td>\n",
       "      <td>0.935019</td>\n",
       "      <td>34.322689</td>\n",
       "    </tr>\n",
       "    <tr>\n",
       "      <th>14</th>\n",
       "      <td>605131</td>\n",
       "      <td>Austin Barnes</td>\n",
       "      <td>1.537278</td>\n",
       "      <td>32.099910</td>\n",
       "    </tr>\n",
       "    <tr>\n",
       "      <th>15</th>\n",
       "      <td>425784</td>\n",
       "      <td>Rene Rivera</td>\n",
       "      <td>0.777781</td>\n",
       "      <td>27.619789</td>\n",
       "    </tr>\n",
       "    <tr>\n",
       "      <th>16</th>\n",
       "      <td>431145</td>\n",
       "      <td>Russell Martin</td>\n",
       "      <td>0.480066</td>\n",
       "      <td>26.433392</td>\n",
       "    </tr>\n",
       "    <tr>\n",
       "      <th>17</th>\n",
       "      <td>519083</td>\n",
       "      <td>Derek Norris</td>\n",
       "      <td>0.591862</td>\n",
       "      <td>23.379158</td>\n",
       "    </tr>\n",
       "    <tr>\n",
       "      <th>18</th>\n",
       "      <td>543877</td>\n",
       "      <td>Christian Vazquez</td>\n",
       "      <td>0.716642</td>\n",
       "      <td>22.875218</td>\n",
       "    </tr>\n",
       "    <tr>\n",
       "      <th>19</th>\n",
       "      <td>543228</td>\n",
       "      <td>Yan Gomes</td>\n",
       "      <td>0.420199</td>\n",
       "      <td>21.516290</td>\n",
       "    </tr>\n",
       "    <tr>\n",
       "      <th>20</th>\n",
       "      <td>596142</td>\n",
       "      <td>Gary Sanchez</td>\n",
       "      <td>0.682545</td>\n",
       "      <td>21.242171</td>\n",
       "    </tr>\n",
       "    <tr>\n",
       "      <th>21</th>\n",
       "      <td>571974</td>\n",
       "      <td>John Ryan Murphy</td>\n",
       "      <td>0.932958</td>\n",
       "      <td>19.977421</td>\n",
       "    </tr>\n",
       "    <tr>\n",
       "      <th>22</th>\n",
       "      <td>424325</td>\n",
       "      <td>David Ross</td>\n",
       "      <td>1.154781</td>\n",
       "      <td>19.658999</td>\n",
       "    </tr>\n",
       "    <tr>\n",
       "      <th>23</th>\n",
       "      <td>545358</td>\n",
       "      <td>Max Stassi</td>\n",
       "      <td>1.327269</td>\n",
       "      <td>19.594473</td>\n",
       "    </tr>\n",
       "    <tr>\n",
       "      <th>24</th>\n",
       "      <td>435263</td>\n",
       "      <td>Brian McCann</td>\n",
       "      <td>0.338383</td>\n",
       "      <td>17.866939</td>\n",
       "    </tr>\n",
       "    <tr>\n",
       "      <th>25</th>\n",
       "      <td>543376</td>\n",
       "      <td>Caleb Joseph</td>\n",
       "      <td>0.384573</td>\n",
       "      <td>15.395603</td>\n",
       "    </tr>\n",
       "    <tr>\n",
       "      <th>26</th>\n",
       "      <td>446653</td>\n",
       "      <td>Jose Lobaton</td>\n",
       "      <td>0.732827</td>\n",
       "      <td>14.814840</td>\n",
       "    </tr>\n",
       "    <tr>\n",
       "      <th>27</th>\n",
       "      <td>519222</td>\n",
       "      <td>Austin Romine</td>\n",
       "      <td>0.570500</td>\n",
       "      <td>14.720028</td>\n",
       "    </tr>\n",
       "    <tr>\n",
       "      <th>28</th>\n",
       "      <td>608700</td>\n",
       "      <td>Kevin Plawecki</td>\n",
       "      <td>0.512827</td>\n",
       "      <td>14.664274</td>\n",
       "    </tr>\n",
       "    <tr>\n",
       "      <th>29</th>\n",
       "      <td>455104</td>\n",
       "      <td>Chris Iannetta</td>\n",
       "      <td>0.303280</td>\n",
       "      <td>14.521042</td>\n",
       "    </tr>\n",
       "    <tr>\n",
       "      <th>30</th>\n",
       "      <td>595751</td>\n",
       "      <td>Jorge Alfaro</td>\n",
       "      <td>0.722673</td>\n",
       "      <td>12.975587</td>\n",
       "    </tr>\n",
       "    <tr>\n",
       "      <th>...</th>\n",
       "      <td>...</td>\n",
       "      <td>...</td>\n",
       "      <td>...</td>\n",
       "      <td>...</td>\n",
       "    </tr>\n",
       "    <tr>\n",
       "      <th>71</th>\n",
       "      <td>623143</td>\n",
       "      <td>Trevor Brown</td>\n",
       "      <td>-0.767258</td>\n",
       "      <td>-7.347259</td>\n",
       "    </tr>\n",
       "    <tr>\n",
       "      <th>72</th>\n",
       "      <td>430910</td>\n",
       "      <td>Brayan Pena</td>\n",
       "      <td>-0.644358</td>\n",
       "      <td>-7.541567</td>\n",
       "    </tr>\n",
       "    <tr>\n",
       "      <th>73</th>\n",
       "      <td>607345</td>\n",
       "      <td>Kevan Smith</td>\n",
       "      <td>-0.450758</td>\n",
       "      <td>-7.853563</td>\n",
       "    </tr>\n",
       "    <tr>\n",
       "      <th>74</th>\n",
       "      <td>595284</td>\n",
       "      <td>Andrew Knapp</td>\n",
       "      <td>-0.599731</td>\n",
       "      <td>-8.375246</td>\n",
       "    </tr>\n",
       "    <tr>\n",
       "      <th>75</th>\n",
       "      <td>641598</td>\n",
       "      <td>Mitch Garver</td>\n",
       "      <td>-0.692862</td>\n",
       "      <td>-9.030761</td>\n",
       "    </tr>\n",
       "    <tr>\n",
       "      <th>76</th>\n",
       "      <td>519237</td>\n",
       "      <td>Cameron Rupp</td>\n",
       "      <td>-0.268162</td>\n",
       "      <td>-9.665371</td>\n",
       "    </tr>\n",
       "    <tr>\n",
       "      <th>77</th>\n",
       "      <td>592407</td>\n",
       "      <td>Bryan Holaday</td>\n",
       "      <td>-0.685854</td>\n",
       "      <td>-10.763790</td>\n",
       "    </tr>\n",
       "    <tr>\n",
       "      <th>78</th>\n",
       "      <td>543302</td>\n",
       "      <td>Chris Herrmann</td>\n",
       "      <td>-0.611272</td>\n",
       "      <td>-11.544479</td>\n",
       "    </tr>\n",
       "    <tr>\n",
       "      <th>79</th>\n",
       "      <td>572863</td>\n",
       "      <td>Dustin Garneau</td>\n",
       "      <td>-1.093330</td>\n",
       "      <td>-12.505507</td>\n",
       "    </tr>\n",
       "    <tr>\n",
       "      <th>80</th>\n",
       "      <td>489232</td>\n",
       "      <td>Anthony Recker</td>\n",
       "      <td>-1.647124</td>\n",
       "      <td>-13.144049</td>\n",
       "    </tr>\n",
       "    <tr>\n",
       "      <th>81</th>\n",
       "      <td>519023</td>\n",
       "      <td>Devin Mesoraco</td>\n",
       "      <td>-0.812002</td>\n",
       "      <td>-13.607522</td>\n",
       "    </tr>\n",
       "    <tr>\n",
       "      <th>82</th>\n",
       "      <td>516949</td>\n",
       "      <td>Hector Sanchez</td>\n",
       "      <td>-1.960217</td>\n",
       "      <td>-14.338990</td>\n",
       "    </tr>\n",
       "    <tr>\n",
       "      <th>83</th>\n",
       "      <td>457454</td>\n",
       "      <td>Jarrod Saltalamacchia</td>\n",
       "      <td>-0.877685</td>\n",
       "      <td>-14.358043</td>\n",
       "    </tr>\n",
       "    <tr>\n",
       "      <th>84</th>\n",
       "      <td>452672</td>\n",
       "      <td>Ryan Hanigan</td>\n",
       "      <td>-1.044269</td>\n",
       "      <td>-16.249863</td>\n",
       "    </tr>\n",
       "    <tr>\n",
       "      <th>85</th>\n",
       "      <td>150229</td>\n",
       "      <td>A.J. Pierzynski</td>\n",
       "      <td>-0.740630</td>\n",
       "      <td>-16.844152</td>\n",
       "    </tr>\n",
       "    <tr>\n",
       "      <th>86</th>\n",
       "      <td>518542</td>\n",
       "      <td>Juan Centeno</td>\n",
       "      <td>-1.398232</td>\n",
       "      <td>-16.922796</td>\n",
       "    </tr>\n",
       "    <tr>\n",
       "      <th>87</th>\n",
       "      <td>488671</td>\n",
       "      <td>Alex Avila</td>\n",
       "      <td>-0.541807</td>\n",
       "      <td>-17.150354</td>\n",
       "    </tr>\n",
       "    <tr>\n",
       "      <th>88</th>\n",
       "      <td>446308</td>\n",
       "      <td>Matt Wieters</td>\n",
       "      <td>-0.381774</td>\n",
       "      <td>-18.685537</td>\n",
       "    </tr>\n",
       "    <tr>\n",
       "      <th>89</th>\n",
       "      <td>425900</td>\n",
       "      <td>Dioner Navarro</td>\n",
       "      <td>-1.239794</td>\n",
       "      <td>-21.930711</td>\n",
       "    </tr>\n",
       "    <tr>\n",
       "      <th>90</th>\n",
       "      <td>460077</td>\n",
       "      <td>Drew Butera</td>\n",
       "      <td>-0.728619</td>\n",
       "      <td>-22.482258</td>\n",
       "    </tr>\n",
       "    <tr>\n",
       "      <th>91</th>\n",
       "      <td>518960</td>\n",
       "      <td>Jonathan Lucroy</td>\n",
       "      <td>-0.416985</td>\n",
       "      <td>-25.067465</td>\n",
       "    </tr>\n",
       "    <tr>\n",
       "      <th>92</th>\n",
       "      <td>541608</td>\n",
       "      <td>Ramon Cabrera</td>\n",
       "      <td>-3.488888</td>\n",
       "      <td>-25.985235</td>\n",
       "    </tr>\n",
       "    <tr>\n",
       "      <th>93</th>\n",
       "      <td>454560</td>\n",
       "      <td>A.J. Ellis</td>\n",
       "      <td>-0.966391</td>\n",
       "      <td>-26.220130</td>\n",
       "    </tr>\n",
       "    <tr>\n",
       "      <th>94</th>\n",
       "      <td>455139</td>\n",
       "      <td>Robinson Chirinos</td>\n",
       "      <td>-0.611839</td>\n",
       "      <td>-26.690866</td>\n",
       "    </tr>\n",
       "    <tr>\n",
       "      <th>95</th>\n",
       "      <td>460026</td>\n",
       "      <td>Nick Hundley</td>\n",
       "      <td>-0.604034</td>\n",
       "      <td>-27.475077</td>\n",
       "    </tr>\n",
       "    <tr>\n",
       "      <th>96</th>\n",
       "      <td>553882</td>\n",
       "      <td>Omar Narvaez</td>\n",
       "      <td>-1.090362</td>\n",
       "      <td>-29.148646</td>\n",
       "    </tr>\n",
       "    <tr>\n",
       "      <th>97</th>\n",
       "      <td>434563</td>\n",
       "      <td>Carlos Ruiz</td>\n",
       "      <td>-1.158805</td>\n",
       "      <td>-29.282991</td>\n",
       "    </tr>\n",
       "    <tr>\n",
       "      <th>98</th>\n",
       "      <td>571466</td>\n",
       "      <td>Tucker Barnhart</td>\n",
       "      <td>-0.584067</td>\n",
       "      <td>-31.771515</td>\n",
       "    </tr>\n",
       "    <tr>\n",
       "      <th>99</th>\n",
       "      <td>543510</td>\n",
       "      <td>James McCann</td>\n",
       "      <td>-0.616097</td>\n",
       "      <td>-35.070711</td>\n",
       "    </tr>\n",
       "    <tr>\n",
       "      <th>100</th>\n",
       "      <td>521692</td>\n",
       "      <td>Salvador Perez</td>\n",
       "      <td>-0.719975</td>\n",
       "      <td>-47.208039</td>\n",
       "    </tr>\n",
       "  </tbody>\n",
       "</table>\n",
       "<p>100 rows × 4 columns</p>\n",
       "</div>"
      ],
      "text/plain": [
       "     mlb_id                   name   perGame         RAA\n",
       "1    518735        Yasmani Grandal  1.563085  103.945129\n",
       "2    452095          Tyler Flowers  1.693622   79.288605\n",
       "3    457763           Buster Posey  1.331269   73.833497\n",
       "4    455117       Martin Maldonado  1.061045   57.012069\n",
       "5    595978          Austin Hedges  1.288708   43.020932\n",
       "6    425877          Yadier Molina  0.574160   40.701652\n",
       "7    425772            Jeff Mathis  1.555466   39.720388\n",
       "8    465041     Francisco Cervelli  0.752091   39.210997\n",
       "9    488771           Jason Castro  0.821298   37.794488\n",
       "10   518595        Travis d'Arnaud  1.125489   36.973441\n",
       "11   471083         Miguel Montero  1.085342   35.943261\n",
       "12   572287            Mike Zunino  0.683191   35.891460\n",
       "13   547379          Roberto Perez  0.935019   34.322689\n",
       "14   605131          Austin Barnes  1.537278   32.099910\n",
       "15   425784            Rene Rivera  0.777781   27.619789\n",
       "16   431145         Russell Martin  0.480066   26.433392\n",
       "17   519083           Derek Norris  0.591862   23.379158\n",
       "18   543877      Christian Vazquez  0.716642   22.875218\n",
       "19   543228              Yan Gomes  0.420199   21.516290\n",
       "20   596142           Gary Sanchez  0.682545   21.242171\n",
       "21   571974       John Ryan Murphy  0.932958   19.977421\n",
       "22   424325             David Ross  1.154781   19.658999\n",
       "23   545358             Max Stassi  1.327269   19.594473\n",
       "24   435263           Brian McCann  0.338383   17.866939\n",
       "25   543376           Caleb Joseph  0.384573   15.395603\n",
       "26   446653           Jose Lobaton  0.732827   14.814840\n",
       "27   519222          Austin Romine  0.570500   14.720028\n",
       "28   608700         Kevin Plawecki  0.512827   14.664274\n",
       "29   455104         Chris Iannetta  0.303280   14.521042\n",
       "30   595751           Jorge Alfaro  0.722673   12.975587\n",
       "..      ...                    ...       ...         ...\n",
       "71   623143           Trevor Brown -0.767258   -7.347259\n",
       "72   430910            Brayan Pena -0.644358   -7.541567\n",
       "73   607345            Kevan Smith -0.450758   -7.853563\n",
       "74   595284           Andrew Knapp -0.599731   -8.375246\n",
       "75   641598           Mitch Garver -0.692862   -9.030761\n",
       "76   519237           Cameron Rupp -0.268162   -9.665371\n",
       "77   592407          Bryan Holaday -0.685854  -10.763790\n",
       "78   543302         Chris Herrmann -0.611272  -11.544479\n",
       "79   572863         Dustin Garneau -1.093330  -12.505507\n",
       "80   489232         Anthony Recker -1.647124  -13.144049\n",
       "81   519023         Devin Mesoraco -0.812002  -13.607522\n",
       "82   516949         Hector Sanchez -1.960217  -14.338990\n",
       "83   457454  Jarrod Saltalamacchia -0.877685  -14.358043\n",
       "84   452672           Ryan Hanigan -1.044269  -16.249863\n",
       "85   150229        A.J. Pierzynski -0.740630  -16.844152\n",
       "86   518542           Juan Centeno -1.398232  -16.922796\n",
       "87   488671             Alex Avila -0.541807  -17.150354\n",
       "88   446308           Matt Wieters -0.381774  -18.685537\n",
       "89   425900         Dioner Navarro -1.239794  -21.930711\n",
       "90   460077            Drew Butera -0.728619  -22.482258\n",
       "91   518960        Jonathan Lucroy -0.416985  -25.067465\n",
       "92   541608          Ramon Cabrera -3.488888  -25.985235\n",
       "93   454560             A.J. Ellis -0.966391  -26.220130\n",
       "94   455139      Robinson Chirinos -0.611839  -26.690866\n",
       "95   460026           Nick Hundley -0.604034  -27.475077\n",
       "96   553882           Omar Narvaez -1.090362  -29.148646\n",
       "97   434563            Carlos Ruiz -1.158805  -29.282991\n",
       "98   571466        Tucker Barnhart -0.584067  -31.771515\n",
       "99   543510           James McCann -0.616097  -35.070711\n",
       "100  521692         Salvador Perez -0.719975  -47.208039\n",
       "\n",
       "[100 rows x 4 columns]"
      ]
     },
     "execution_count": 28,
     "metadata": {},
     "output_type": "execute_result"
    }
   ],
   "source": [
    "catcherFR"
   ]
  },
  {
   "cell_type": "markdown",
   "metadata": {},
   "source": [
    "<p>Finally, lets write our finished catcher framerate dataframe to a .csv that is easily read back into a df for statistical analysis.</p>"
   ]
  },
  {
   "cell_type": "code",
   "execution_count": 29,
   "metadata": {},
   "outputs": [],
   "source": [
    "catcherFR.to_csv('catcherFR.csv', index=False)"
   ]
  },
  {
   "cell_type": "markdown",
   "metadata": {},
   "source": [
    "<p>Lets also write the catchFR dataframe to a second .csv but sorted by perGame to use later in data analysis</p>"
   ]
  },
  {
   "cell_type": "code",
   "execution_count": 30,
   "metadata": {},
   "outputs": [],
   "source": [
    "catcherFRpg = catcherFR.sort_values(by='perGame', ascending=False)\n",
    "catcherFRpg = catcherFRpg.reset_index()\n",
    "catcherFRpg.index += 1\n",
    "catcherFRpg = catcherFRpg.drop('index',axis=1)\n",
    "catcherFRpg.to_csv('catcherFRpg.csv',index=False)"
   ]
  },
  {
   "cell_type": "markdown",
   "metadata": {},
   "source": [
    "## Calculating Call Rates By Pitch Type\n",
    "\n",
    "<p>This section takes the same math and logic used to calculate <em>extraRate</em> for catchers and applies it to each pitch type. This is simply to view which pitches (if any) have the best call rates. More information on the practical application of call rates by pitch type can be found in the statistical analysis section</p>\n",
    "\n",
    "<p>To start we need to get a list of every unique pitch in our pitchDF</p>"
   ]
  },
  {
   "cell_type": "code",
   "execution_count": 31,
   "metadata": {},
   "outputs": [
    {
     "name": "stdout",
     "output_type": "stream",
     "text": [
      "head: ['FF', 'CH', 'CU', 'SL', 'FT']\n",
      "tail: ['160421_182411', '160421_182300', '160421_182242', '160421_182222', 'UN']\n"
     ]
    }
   ],
   "source": [
    "pitchTypes = [x for x in list(pitchDF.pitch_type.unique())]\n",
    "print('head: {}\\ntail: {}'.format(pitchTypes[:5],pitchTypes[-5:]))"
   ]
  },
  {
   "cell_type": "markdown",
   "metadata": {},
   "source": [
    "Information on Statcast pitch type and abbreviations can be found at https://library.fangraphs.com/pitch-type-abbreviations-classifications/\n",
    "\n",
    "If you take a look at the pitchTypes list, you'll notice some pitch types are numbered values that don't have documentation. Because of this we will only count pitch types that do have MLB Statcast documentation"
   ]
  },
  {
   "cell_type": "code",
   "execution_count": 32,
   "metadata": {},
   "outputs": [
    {
     "name": "stdout",
     "output_type": "stream",
     "text": [
      "['FF', 'CH', 'CU', 'SL', 'FT', 'SI', 'FS', 'FC', 'KC', 'EP', 'FA', 'SC', 'KN', 'FO', 'UN']\n"
     ]
    }
   ],
   "source": [
    "cleanPTypes = [x for x in pitchTypes if len(x) == 2] # pitches that have documentation\n",
    "print(cleanPTypes)"
   ]
  },
  {
   "cell_type": "markdown",
   "metadata": {},
   "source": [
    "<p>Now we have a list of pitch_type codes, but it's not very human readable. Lets create an xref to use that maps pitch_type to a human readable pitch name</p>"
   ]
  },
  {
   "cell_type": "code",
   "execution_count": 33,
   "metadata": {},
   "outputs": [],
   "source": [
    "pitchXref = {'FF':'4-seam','FT':'2-seam','CH':'changeup','CU':'curveball','SL':'slider','SI':'sinker',\n",
    "            'FS':'split-fast','FC':'cutter','KC':'knuckle-curve','EP':'eephus','FA':'pitch-out',\n",
    "            'SC':'screwball','KN':'knuckleball','FO':'fastball-out','UN':'unknown'}"
   ]
  },
  {
   "cell_type": "markdown",
   "metadata": {},
   "source": [
    "<p>Now lets create a dictionary of dictionaries with each catcher's framerate per pitch type. This step combines the code used for catchers to grab all four types of pitches from our pitch call matrix</p>"
   ]
  },
  {
   "cell_type": "code",
   "execution_count": 34,
   "metadata": {},
   "outputs": [],
   "source": [
    "pitchRDict = {}\n",
    "for pitch in cleanPTypes:\n",
    "    name = pitchXref[pitch]\n",
    "    pitchTBall = pitchDF[(pitchDF.zone > 10) & (pitchDF.pitch_type == pitch)] # statcast saw a ball\n",
    "    pitchWStrike = pitchTBall[pitchTBall['description'] == 'called_strike'] # statcast saw a ball, ump called a strike\n",
    "    pitchTStrike = pitchDF[(pitchDF.zone < 10) & (pitchDF.pitch_type == pitch)] # statcast saw a strike\n",
    "    pitchWBall = pitchTStrike[pitchTStrike['description'] == 'ball'] # statcast saw a strike, ump called a ball\n",
    "    pitchRDict[name] = {'tBall':pitchTBall.shape[0],'wStrike':pitchWStrike.shape[0],'tStrike':pitchTStrike.shape[0],'wBall':pitchWBall.shape[0]}"
   ]
  },
  {
   "cell_type": "markdown",
   "metadata": {},
   "source": [
    "<p>Lets create our dataframe to track stats by pitch type.</p>"
   ]
  },
  {
   "cell_type": "code",
   "execution_count": 35,
   "metadata": {
    "scrolled": true
   },
   "outputs": [
    {
     "data": {
      "text/html": [
       "<div>\n",
       "<style scoped>\n",
       "    .dataframe tbody tr th:only-of-type {\n",
       "        vertical-align: middle;\n",
       "    }\n",
       "\n",
       "    .dataframe tbody tr th {\n",
       "        vertical-align: top;\n",
       "    }\n",
       "\n",
       "    .dataframe thead th {\n",
       "        text-align: right;\n",
       "    }\n",
       "</style>\n",
       "<table border=\"1\" class=\"dataframe\">\n",
       "  <thead>\n",
       "    <tr style=\"text-align: right;\">\n",
       "      <th></th>\n",
       "      <th>tBall</th>\n",
       "      <th>wStrike</th>\n",
       "      <th>tStrike</th>\n",
       "      <th>wBall</th>\n",
       "    </tr>\n",
       "  </thead>\n",
       "  <tbody>\n",
       "    <tr>\n",
       "      <th>2-seam</th>\n",
       "      <td>118920</td>\n",
       "      <td>11521</td>\n",
       "      <td>58608</td>\n",
       "      <td>8772</td>\n",
       "    </tr>\n",
       "    <tr>\n",
       "      <th>4-seam</th>\n",
       "      <td>353283</td>\n",
       "      <td>33583</td>\n",
       "      <td>183481</td>\n",
       "      <td>27936</td>\n",
       "    </tr>\n",
       "  </tbody>\n",
       "</table>\n",
       "</div>"
      ],
      "text/plain": [
       "         tBall  wStrike  tStrike  wBall\n",
       "2-seam  118920    11521    58608   8772\n",
       "4-seam  353283    33583   183481  27936"
      ]
     },
     "execution_count": 35,
     "metadata": {},
     "output_type": "execute_result"
    }
   ],
   "source": [
    "pitchFR = pd.DataFrame.from_dict(pitchRDict, orient='index')\n",
    "pitchFR.head(2)"
   ]
  },
  {
   "cell_type": "markdown",
   "metadata": {},
   "source": [
    "<p>Now that we have a dataframe we can begin all our row operations to crunch <em>extraRate</em>. Rather than step through each step of code like I did in the catchers section, I'll execute it all at once and we can view the final dataframe.</p>"
   ]
  },
  {
   "cell_type": "code",
   "execution_count": 36,
   "metadata": {},
   "outputs": [
    {
     "data": {
      "text/plain": [
       "2-seam           0.015245\n",
       "4-seam           0.013018\n",
       "changeup        -0.017822\n",
       "curveball        0.004257\n",
       "cutter           0.005329\n",
       "knuckle-curve    0.005333\n",
       "knuckleball     -0.015803\n",
       "sinker           0.020314\n",
       "slider          -0.000221\n",
       "split-fast      -0.029140\n",
       "Name: extraRate, dtype: float64"
      ]
     },
     "execution_count": 36,
     "metadata": {},
     "output_type": "execute_result"
    }
   ],
   "source": [
    "pitchFR['sRate'] = pitchFR.apply(lambda row: row.wStrike / row.tBall, axis=1)\n",
    "pitchFR['bRate'] = pitchFR.apply(lambda row: row.wBall / row.tStrike, axis=1)\n",
    "pitchFR['totalCalled'] = pitchFR.apply(lambda row: row.tBall + row.tStrike, axis=1)\n",
    "pitchFR = pitchFR[pitchFR['totalCalled'] > 500]\n",
    "pitchFR['leagueSR'] = pitchFR.loc[:,['sRate','bRate']].describe().iloc[1,0]\n",
    "pitchFR['leagueBR'] = pitchFR.loc[:,['sRate','bRate']].describe().iloc[1,1]\n",
    "pitchFR['srDiff'] = pitchFR.apply(lambda row: row.sRate - row.leagueSR, axis=1)\n",
    "pitchFR['brDiff'] = pitchFR.apply(lambda row: row.bRate - row.leagueBR, axis=1)\n",
    "pitchFR['extraStr'] = pitchFR.apply(lambda row: row.srDiff * row.tBall, axis=1)\n",
    "pitchFR['extraBall'] = pitchFR.apply(lambda row: row.brDiff * row.tStrike, axis=1)\n",
    "pitchFR['extraDiff'] = pitchFR.apply(lambda row: row.extraStr - row.extraBall, axis=1)\n",
    "pitchFR['extraRate'] = pitchFR.apply(lambda row: row.extraDiff / row.totalCalled, axis=1)\n",
    "pitchFR['extraRate']"
   ]
  },
  {
   "cell_type": "markdown",
   "metadata": {},
   "source": [
    "<p>Finally I'll write the complete dataframe to a .csv for easily reloading the data and output it below.</p>"
   ]
  },
  {
   "cell_type": "code",
   "execution_count": 37,
   "metadata": {},
   "outputs": [
    {
     "data": {
      "text/html": [
       "<div>\n",
       "<style scoped>\n",
       "    .dataframe tbody tr th:only-of-type {\n",
       "        vertical-align: middle;\n",
       "    }\n",
       "\n",
       "    .dataframe tbody tr th {\n",
       "        vertical-align: top;\n",
       "    }\n",
       "\n",
       "    .dataframe thead th {\n",
       "        text-align: right;\n",
       "    }\n",
       "</style>\n",
       "<table border=\"1\" class=\"dataframe\">\n",
       "  <thead>\n",
       "    <tr style=\"text-align: right;\">\n",
       "      <th></th>\n",
       "      <th>tBall</th>\n",
       "      <th>wStrike</th>\n",
       "      <th>tStrike</th>\n",
       "      <th>wBall</th>\n",
       "      <th>sRate</th>\n",
       "      <th>bRate</th>\n",
       "      <th>totalCalled</th>\n",
       "      <th>leagueSR</th>\n",
       "      <th>leagueBR</th>\n",
       "      <th>srDiff</th>\n",
       "      <th>brDiff</th>\n",
       "      <th>extraStr</th>\n",
       "      <th>extraBall</th>\n",
       "      <th>extraDiff</th>\n",
       "      <th>extraRate</th>\n",
       "    </tr>\n",
       "  </thead>\n",
       "  <tbody>\n",
       "    <tr>\n",
       "      <th>2-seam</th>\n",
       "      <td>118920</td>\n",
       "      <td>11521</td>\n",
       "      <td>58608</td>\n",
       "      <td>8772</td>\n",
       "      <td>0.096880</td>\n",
       "      <td>0.149672</td>\n",
       "      <td>177528.0</td>\n",
       "      <td>0.077529</td>\n",
       "      <td>0.156586</td>\n",
       "      <td>0.019351</td>\n",
       "      <td>-0.006913</td>\n",
       "      <td>2301.211369</td>\n",
       "      <td>-405.175076</td>\n",
       "      <td>2706.386445</td>\n",
       "      <td>0.015245</td>\n",
       "    </tr>\n",
       "    <tr>\n",
       "      <th>4-seam</th>\n",
       "      <td>353283</td>\n",
       "      <td>33583</td>\n",
       "      <td>183481</td>\n",
       "      <td>27936</td>\n",
       "      <td>0.095060</td>\n",
       "      <td>0.152256</td>\n",
       "      <td>536764.0</td>\n",
       "      <td>0.077529</td>\n",
       "      <td>0.156586</td>\n",
       "      <td>0.017530</td>\n",
       "      <td>-0.004330</td>\n",
       "      <td>6193.203608</td>\n",
       "      <td>-794.501980</td>\n",
       "      <td>6987.705588</td>\n",
       "      <td>0.013018</td>\n",
       "    </tr>\n",
       "    <tr>\n",
       "      <th>changeup</th>\n",
       "      <td>101096</td>\n",
       "      <td>5820</td>\n",
       "      <td>29019</td>\n",
       "      <td>4845</td>\n",
       "      <td>0.057569</td>\n",
       "      <td>0.166960</td>\n",
       "      <td>130115.0</td>\n",
       "      <td>0.077529</td>\n",
       "      <td>0.156586</td>\n",
       "      <td>-0.019960</td>\n",
       "      <td>0.010374</td>\n",
       "      <td>-2017.905747</td>\n",
       "      <td>301.039388</td>\n",
       "      <td>-2318.945135</td>\n",
       "      <td>-0.017822</td>\n",
       "    </tr>\n",
       "    <tr>\n",
       "      <th>curveball</th>\n",
       "      <td>80507</td>\n",
       "      <td>5781</td>\n",
       "      <td>44636</td>\n",
       "      <td>5996</td>\n",
       "      <td>0.071807</td>\n",
       "      <td>0.134331</td>\n",
       "      <td>125143.0</td>\n",
       "      <td>0.077529</td>\n",
       "      <td>0.156586</td>\n",
       "      <td>-0.005722</td>\n",
       "      <td>-0.022255</td>\n",
       "      <td>-460.654249</td>\n",
       "      <td>-993.359587</td>\n",
       "      <td>532.705338</td>\n",
       "      <td>0.004257</td>\n",
       "    </tr>\n",
       "    <tr>\n",
       "      <th>cutter</th>\n",
       "      <td>51060</td>\n",
       "      <td>4293</td>\n",
       "      <td>21829</td>\n",
       "      <td>3364</td>\n",
       "      <td>0.084078</td>\n",
       "      <td>0.154107</td>\n",
       "      <td>72889.0</td>\n",
       "      <td>0.077529</td>\n",
       "      <td>0.156586</td>\n",
       "      <td>0.006548</td>\n",
       "      <td>-0.002479</td>\n",
       "      <td>334.352106</td>\n",
       "      <td>-54.109383</td>\n",
       "      <td>388.461490</td>\n",
       "      <td>0.005329</td>\n",
       "    </tr>\n",
       "    <tr>\n",
       "      <th>knuckle-curve</th>\n",
       "      <td>23656</td>\n",
       "      <td>1729</td>\n",
       "      <td>14401</td>\n",
       "      <td>1947</td>\n",
       "      <td>0.073089</td>\n",
       "      <td>0.135199</td>\n",
       "      <td>38057.0</td>\n",
       "      <td>0.077529</td>\n",
       "      <td>0.156586</td>\n",
       "      <td>-0.004440</td>\n",
       "      <td>-0.021387</td>\n",
       "      <td>-105.033971</td>\n",
       "      <td>-307.990757</td>\n",
       "      <td>202.956785</td>\n",
       "      <td>0.005333</td>\n",
       "    </tr>\n",
       "    <tr>\n",
       "      <th>knuckleball</th>\n",
       "      <td>3850</td>\n",
       "      <td>296</td>\n",
       "      <td>1831</td>\n",
       "      <td>374</td>\n",
       "      <td>0.076883</td>\n",
       "      <td>0.204260</td>\n",
       "      <td>5681.0</td>\n",
       "      <td>0.077529</td>\n",
       "      <td>0.156586</td>\n",
       "      <td>-0.000646</td>\n",
       "      <td>0.047674</td>\n",
       "      <td>-2.487943</td>\n",
       "      <td>87.291572</td>\n",
       "      <td>-89.779515</td>\n",
       "      <td>-0.015803</td>\n",
       "    </tr>\n",
       "    <tr>\n",
       "      <th>sinker</th>\n",
       "      <td>84967</td>\n",
       "      <td>8596</td>\n",
       "      <td>47599</td>\n",
       "      <td>6769</td>\n",
       "      <td>0.101169</td>\n",
       "      <td>0.142209</td>\n",
       "      <td>132566.0</td>\n",
       "      <td>0.077529</td>\n",
       "      <td>0.156586</td>\n",
       "      <td>0.023639</td>\n",
       "      <td>-0.014377</td>\n",
       "      <td>2008.564912</td>\n",
       "      <td>-684.323035</td>\n",
       "      <td>2692.887947</td>\n",
       "      <td>0.020314</td>\n",
       "    </tr>\n",
       "    <tr>\n",
       "      <th>slider</th>\n",
       "      <td>144508</td>\n",
       "      <td>10238</td>\n",
       "      <td>67284</td>\n",
       "      <td>9617</td>\n",
       "      <td>0.070847</td>\n",
       "      <td>0.142931</td>\n",
       "      <td>211792.0</td>\n",
       "      <td>0.077529</td>\n",
       "      <td>0.156586</td>\n",
       "      <td>-0.006682</td>\n",
       "      <td>-0.013654</td>\n",
       "      <td>-965.609279</td>\n",
       "      <td>-918.712664</td>\n",
       "      <td>-46.896616</td>\n",
       "      <td>-0.000221</td>\n",
       "    </tr>\n",
       "    <tr>\n",
       "      <th>split-fast</th>\n",
       "      <td>14193</td>\n",
       "      <td>680</td>\n",
       "      <td>3784</td>\n",
       "      <td>696</td>\n",
       "      <td>0.047911</td>\n",
       "      <td>0.183932</td>\n",
       "      <td>17977.0</td>\n",
       "      <td>0.077529</td>\n",
       "      <td>0.156586</td>\n",
       "      <td>-0.029618</td>\n",
       "      <td>0.027347</td>\n",
       "      <td>-420.373865</td>\n",
       "      <td>103.479687</td>\n",
       "      <td>-523.853552</td>\n",
       "      <td>-0.029140</td>\n",
       "    </tr>\n",
       "  </tbody>\n",
       "</table>\n",
       "</div>"
      ],
      "text/plain": [
       "                tBall  wStrike  tStrike  wBall     sRate     bRate  \\\n",
       "2-seam         118920    11521    58608   8772  0.096880  0.149672   \n",
       "4-seam         353283    33583   183481  27936  0.095060  0.152256   \n",
       "changeup       101096     5820    29019   4845  0.057569  0.166960   \n",
       "curveball       80507     5781    44636   5996  0.071807  0.134331   \n",
       "cutter          51060     4293    21829   3364  0.084078  0.154107   \n",
       "knuckle-curve   23656     1729    14401   1947  0.073089  0.135199   \n",
       "knuckleball      3850      296     1831    374  0.076883  0.204260   \n",
       "sinker          84967     8596    47599   6769  0.101169  0.142209   \n",
       "slider         144508    10238    67284   9617  0.070847  0.142931   \n",
       "split-fast      14193      680     3784    696  0.047911  0.183932   \n",
       "\n",
       "               totalCalled  leagueSR  leagueBR    srDiff    brDiff  \\\n",
       "2-seam            177528.0  0.077529  0.156586  0.019351 -0.006913   \n",
       "4-seam            536764.0  0.077529  0.156586  0.017530 -0.004330   \n",
       "changeup          130115.0  0.077529  0.156586 -0.019960  0.010374   \n",
       "curveball         125143.0  0.077529  0.156586 -0.005722 -0.022255   \n",
       "cutter             72889.0  0.077529  0.156586  0.006548 -0.002479   \n",
       "knuckle-curve      38057.0  0.077529  0.156586 -0.004440 -0.021387   \n",
       "knuckleball         5681.0  0.077529  0.156586 -0.000646  0.047674   \n",
       "sinker            132566.0  0.077529  0.156586  0.023639 -0.014377   \n",
       "slider            211792.0  0.077529  0.156586 -0.006682 -0.013654   \n",
       "split-fast         17977.0  0.077529  0.156586 -0.029618  0.027347   \n",
       "\n",
       "                  extraStr   extraBall    extraDiff  extraRate  \n",
       "2-seam         2301.211369 -405.175076  2706.386445   0.015245  \n",
       "4-seam         6193.203608 -794.501980  6987.705588   0.013018  \n",
       "changeup      -2017.905747  301.039388 -2318.945135  -0.017822  \n",
       "curveball      -460.654249 -993.359587   532.705338   0.004257  \n",
       "cutter          334.352106  -54.109383   388.461490   0.005329  \n",
       "knuckle-curve  -105.033971 -307.990757   202.956785   0.005333  \n",
       "knuckleball      -2.487943   87.291572   -89.779515  -0.015803  \n",
       "sinker         2008.564912 -684.323035  2692.887947   0.020314  \n",
       "slider         -965.609279 -918.712664   -46.896616  -0.000221  \n",
       "split-fast     -420.373865  103.479687  -523.853552  -0.029140  "
      ]
     },
     "execution_count": 37,
     "metadata": {},
     "output_type": "execute_result"
    }
   ],
   "source": [
    "pitchFR.to_csv('pitchFR.csv', index=True)\n",
    "pitchFR"
   ]
  },
  {
   "cell_type": "markdown",
   "metadata": {},
   "source": [
    "<a id='findings'></a>\n",
    "# Findings\n",
    "\n",
    "\n",
    "Before I really dig into this data, it's worth noting that there ARE flaws in this data and lots of unknowns; umpire call rate ([check this out for a fun read into umpire call bias](http://www.bu.edu/articles/2019/mlb-umpires-strike-zone-accuracy)), pitch location, and pitch type all impact perGame and RAA. This notebook and data are <em>not</em> intended to make conclusive findings, but rather start a discussion about the art of framing, what impacts it, and who's the best at it.\n",
    "\n",
    "<a id='RAA'></a>\n",
    "## RAA and perGame Catcher Analysis\n",
    "\n",
    "<p>Runs Above Average (RAA) is a rough estimate of the total added value in runs a team has gained (or lost) from playing a catcher. It is calculated by multiplying Added Calls per Game (perGame) times 0.133 times the total number of games the catcher has caught in.</p>\n",
    "<p>&nbsp;</p>\n",
    "\\begin{align*}\n",
    "RAA = perGame * gamesCaught * 0.133\n",
    "\\end{align*}\n",
    "<p>&nbsp;</p>\n",
    "\n",
    "0.133 is a VERY rough estimate of how much run value is generated by an above average frame and [was calculated by Dan Turkenkopf back in 2008.](https://www.beyondtheboxscore.com/2008/5/12/506919/a-nibble-here-a-nibble-the) perGame is the number of pitches each game that a catcher gets above the 'average' mlb catcher. For example, Austin Hedges ~ 1.3 perGame means that he on average nets 1.3 more strikes per game than the 'average' mlb catcher would (framing a ball the 'average' catcher woudn't get OR not losing a strike that the 'average' catcher would lose). For a more in-depth breakdown of the process I used to calculate perGame, check out [this example using only 2012 catcher data.](http://www.statcorner.com/exp_PreliminaryCatchingFramework.php)\n",
    "\n",
    "#### To return to the math section, [CLICK HERE](#math)\n",
    "\n",
    "<p>Lets start by reading our df from the the framerateByCatcherDF.csv we created earlier and looking at the top 5 catchers based on RAA.</p>"
   ]
  },
  {
   "cell_type": "code",
   "execution_count": 38,
   "metadata": {},
   "outputs": [
    {
     "data": {
      "text/html": [
       "<div>\n",
       "<style scoped>\n",
       "    .dataframe tbody tr th:only-of-type {\n",
       "        vertical-align: middle;\n",
       "    }\n",
       "\n",
       "    .dataframe tbody tr th {\n",
       "        vertical-align: top;\n",
       "    }\n",
       "\n",
       "    .dataframe thead th {\n",
       "        text-align: right;\n",
       "    }\n",
       "</style>\n",
       "<table border=\"1\" class=\"dataframe\">\n",
       "  <thead>\n",
       "    <tr style=\"text-align: right;\">\n",
       "      <th></th>\n",
       "      <th>mlb_id</th>\n",
       "      <th>name</th>\n",
       "      <th>perGame</th>\n",
       "      <th>RAA</th>\n",
       "    </tr>\n",
       "  </thead>\n",
       "  <tbody>\n",
       "    <tr>\n",
       "      <th>1</th>\n",
       "      <td>518735</td>\n",
       "      <td>Yasmani Grandal</td>\n",
       "      <td>1.563085</td>\n",
       "      <td>103.945129</td>\n",
       "    </tr>\n",
       "    <tr>\n",
       "      <th>2</th>\n",
       "      <td>452095</td>\n",
       "      <td>Tyler Flowers</td>\n",
       "      <td>1.693622</td>\n",
       "      <td>79.288605</td>\n",
       "    </tr>\n",
       "    <tr>\n",
       "      <th>3</th>\n",
       "      <td>457763</td>\n",
       "      <td>Buster Posey</td>\n",
       "      <td>1.331269</td>\n",
       "      <td>73.833497</td>\n",
       "    </tr>\n",
       "    <tr>\n",
       "      <th>4</th>\n",
       "      <td>455117</td>\n",
       "      <td>Martin Maldonado</td>\n",
       "      <td>1.061045</td>\n",
       "      <td>57.012069</td>\n",
       "    </tr>\n",
       "    <tr>\n",
       "      <th>5</th>\n",
       "      <td>595978</td>\n",
       "      <td>Austin Hedges</td>\n",
       "      <td>1.288708</td>\n",
       "      <td>43.020932</td>\n",
       "    </tr>\n",
       "  </tbody>\n",
       "</table>\n",
       "</div>"
      ],
      "text/plain": [
       "   mlb_id              name   perGame         RAA\n",
       "1  518735   Yasmani Grandal  1.563085  103.945129\n",
       "2  452095     Tyler Flowers  1.693622   79.288605\n",
       "3  457763      Buster Posey  1.331269   73.833497\n",
       "4  455117  Martin Maldonado  1.061045   57.012069\n",
       "5  595978     Austin Hedges  1.288708   43.020932"
      ]
     },
     "execution_count": 38,
     "metadata": {},
     "output_type": "execute_result"
    }
   ],
   "source": [
    "catcherFR = pd.read_csv('catcherFR.csv')\n",
    "catcherFR.index += 1 # offset python base 0 index\n",
    "catcherFR.head(5)"
   ]
  },
  {
   "cell_type": "markdown",
   "metadata": {},
   "source": [
    "<p>We should always common sense check our data. Are these really the top 5 framing catchers from 2015 through 2018?</p>\n",
    "<ul>\n",
    "<li><strong>Yasmani Grandal:&nbsp;</strong><a href=\"https://www.mlb.com/news/yasmani-grandal-is-an-elite-pitch-framer-c301225744\">https://www.mlb.com/news/yasmani-grandal-is-an-elite-pitch-framer-c301225744</a></li>\n",
    "<li><strong>Tyler Flowers:&nbsp;</strong><a href=\"https://www.chicagotribune.com/sports/cubs/ct-spt-cubs-willson-contreras-20190402-story.html\">https://www.chicagotribune.com/sports/cubs/ct-spt-cubs-willson-contreras-20190402-story.html</a></li>\n",
    "<li><strong>Buster Posey:&nbsp;</strong><a href=\"https://www.mccoveychronicles.com/2019/3/27/18283241/sf-giants-fangraphs-catcher-framing-buster-posey-buster-posey-nick-hundley\">https://www.mccoveychronicles.com/2019/3/27/18283241/sf-giants-fangraphs-catcher-framing-buster-posey-buster-posey-nick-hundley</a></li>\n",
    "<li><strong>Martin Moldonado:&nbsp;</strong><a href=\"https://www.cubsinsider.com/2019/07/16/martin-maldonados-framing-among-best-in-mlb/\">https://www.cubsinsider.com/2019/07/16/martin-maldonados-framing-among-best-in-mlb/</a></li>\n",
    "<li><strong>Austin Hedges:&nbsp;</strong><a href=\"https://sports.yahoo.com/inside-the-craft-of-the-best-pitch-framer-in-mlb-230403621.html\">https://sports.yahoo.com/inside-the-craft-of-the-best-pitch-framer-in-mlb-230403621.html</a></li>\n",
    "</ul>\n",
    "<p>Looks like our data passes the common sense test. But who are the worst 5 catchers in terms of RAA?</p> "
   ]
  },
  {
   "cell_type": "code",
   "execution_count": 39,
   "metadata": {},
   "outputs": [
    {
     "data": {
      "text/html": [
       "<div>\n",
       "<style scoped>\n",
       "    .dataframe tbody tr th:only-of-type {\n",
       "        vertical-align: middle;\n",
       "    }\n",
       "\n",
       "    .dataframe tbody tr th {\n",
       "        vertical-align: top;\n",
       "    }\n",
       "\n",
       "    .dataframe thead th {\n",
       "        text-align: right;\n",
       "    }\n",
       "</style>\n",
       "<table border=\"1\" class=\"dataframe\">\n",
       "  <thead>\n",
       "    <tr style=\"text-align: right;\">\n",
       "      <th></th>\n",
       "      <th>mlb_id</th>\n",
       "      <th>name</th>\n",
       "      <th>perGame</th>\n",
       "      <th>RAA</th>\n",
       "    </tr>\n",
       "  </thead>\n",
       "  <tbody>\n",
       "    <tr>\n",
       "      <th>96</th>\n",
       "      <td>553882</td>\n",
       "      <td>Omar Narvaez</td>\n",
       "      <td>-1.090362</td>\n",
       "      <td>-29.148646</td>\n",
       "    </tr>\n",
       "    <tr>\n",
       "      <th>97</th>\n",
       "      <td>434563</td>\n",
       "      <td>Carlos Ruiz</td>\n",
       "      <td>-1.158805</td>\n",
       "      <td>-29.282991</td>\n",
       "    </tr>\n",
       "    <tr>\n",
       "      <th>98</th>\n",
       "      <td>571466</td>\n",
       "      <td>Tucker Barnhart</td>\n",
       "      <td>-0.584067</td>\n",
       "      <td>-31.771515</td>\n",
       "    </tr>\n",
       "    <tr>\n",
       "      <th>99</th>\n",
       "      <td>543510</td>\n",
       "      <td>James McCann</td>\n",
       "      <td>-0.616097</td>\n",
       "      <td>-35.070711</td>\n",
       "    </tr>\n",
       "    <tr>\n",
       "      <th>100</th>\n",
       "      <td>521692</td>\n",
       "      <td>Salvador Perez</td>\n",
       "      <td>-0.719975</td>\n",
       "      <td>-47.208039</td>\n",
       "    </tr>\n",
       "  </tbody>\n",
       "</table>\n",
       "</div>"
      ],
      "text/plain": [
       "     mlb_id             name   perGame        RAA\n",
       "96   553882     Omar Narvaez -1.090362 -29.148646\n",
       "97   434563      Carlos Ruiz -1.158805 -29.282991\n",
       "98   571466  Tucker Barnhart -0.584067 -31.771515\n",
       "99   543510     James McCann -0.616097 -35.070711\n",
       "100  521692   Salvador Perez -0.719975 -47.208039"
      ]
     },
     "execution_count": 39,
     "metadata": {},
     "output_type": "execute_result"
    }
   ],
   "source": [
    "catcherFR.tail(5)"
   ]
  },
  {
   "cell_type": "markdown",
   "metadata": {},
   "source": [
    "It's interesting seeing Salvador Perez at the bottom of this list, considering [he was an All-Star all 4 years and Gold Glove 3 of the 4](https://www.baseball-reference.com/players/p/perezsa02.shtml). Let's look at Salvy's rank based on perGame to see if we can shed some light on why his RAA is so bad (his bad frames cost his team 47 runs over the past 4 years!!)."
   ]
  },
  {
   "cell_type": "code",
   "execution_count": 40,
   "metadata": {},
   "outputs": [
    {
     "data": {
      "text/html": [
       "<div>\n",
       "<style scoped>\n",
       "    .dataframe tbody tr th:only-of-type {\n",
       "        vertical-align: middle;\n",
       "    }\n",
       "\n",
       "    .dataframe tbody tr th {\n",
       "        vertical-align: top;\n",
       "    }\n",
       "\n",
       "    .dataframe thead th {\n",
       "        text-align: right;\n",
       "    }\n",
       "</style>\n",
       "<table border=\"1\" class=\"dataframe\">\n",
       "  <thead>\n",
       "    <tr style=\"text-align: right;\">\n",
       "      <th></th>\n",
       "      <th>mlb_id</th>\n",
       "      <th>name</th>\n",
       "      <th>perGame</th>\n",
       "      <th>RAA</th>\n",
       "    </tr>\n",
       "  </thead>\n",
       "  <tbody>\n",
       "    <tr>\n",
       "      <th>83</th>\n",
       "      <td>521692</td>\n",
       "      <td>Salvador Perez</td>\n",
       "      <td>-0.719975</td>\n",
       "      <td>-47.208039</td>\n",
       "    </tr>\n",
       "  </tbody>\n",
       "</table>\n",
       "</div>"
      ],
      "text/plain": [
       "    mlb_id            name   perGame        RAA\n",
       "83  521692  Salvador Perez -0.719975 -47.208039"
      ]
     },
     "execution_count": 40,
     "metadata": {},
     "output_type": "execute_result"
    }
   ],
   "source": [
    "catcherFRpg = pd.read_csv('catcherFRpg.csv')\n",
    "catcherFRpg.index += 1 # offset python base 0 index\n",
    "catcherFRpg[catcherFRpg['name'] == 'Salvador Perez']"
   ]
  },
  {
   "cell_type": "markdown",
   "metadata": {},
   "source": [
    "It looks like Salvy's ridiculously bad RAA is the result of two things:\n",
    "<ol style=\"list-style-type: lower-roman;\">\n",
    "<li>Salvy is ranked 83rd in perGame net pitches compared to average. Obviously not great, but still not warranting being the worst RAA by so much</li>\n",
    "<li>Salvy played a&nbsp;<strong>LOT</strong> of games (539 from 2015-2018). He's an all-star and gold glover and slugged better than .420 all 4 years (including .495 in 2017)&nbsp;</li>\n",
    "</ol>\n",
    "<p>RAA is calculated by multiplying games played and perGame, so when you play that many games and frame below average for that long, the RAA is bound to be bad. That's not to say that Salvy is a bad catcher or even a bad defensive catcher, RAA only accounts for framing (and it's probably an exaggerated estimate) and Salvy does more than enough in other aspects of the game to recoup those lost runs for his team. Regardless, he's not helping his pitchers around the strike zone.</p>\n",
    "\n",
    "\n",
    "<p>Let's look at the distribution of catchers based on RAA</p>"
   ]
  },
  {
   "cell_type": "code",
   "execution_count": 41,
   "metadata": {},
   "outputs": [
    {
     "data": {
      "image/png": "[encoded data removed]",
      "text/plain": [
       "<Figure size 432x288 with 1 Axes>"
      ]
     },
     "metadata": {
      "needs_background": "light"
     },
     "output_type": "display_data"
    }
   ],
   "source": [
    "frData = pd.Series([x for x in list(catcherFR['RAA'])])\n",
    "graph = sns.distplot(frData, kde = True, rug = True)\n",
    "graph.set_title('RAA Histogram ( > 50 games caught )')\n",
    "graph.set_xlabel('RAA')\n",
    "graph.set_ylabel('# of Catchers')\n",
    "plt.show()"
   ]
  },
  {
   "cell_type": "markdown",
   "metadata": {},
   "source": [
    "<p>The data is definitely clustered around 0 which is expected as an RAA = 0 is considered the 'average' mlb catcher. The tail on the right of the plot can be attributed to the outlier best framing catchers who have a high number of <em>totalGames</em> between 2015 and 2018. It's also worth noting that there really isn't much of a tail on the lower end of the plot. Most likely, no catcher producing negative run value is going to stay in the MLB or behind the plate for long enough to drive the RAA down that far (unless you're Salvy in which case you make up for it elsewhere). Let's see how many outlier catchers we have. "
   ]
  },
  {
   "cell_type": "code",
   "execution_count": 42,
   "metadata": {},
   "outputs": [
    {
     "data": {
      "text/plain": [
       "<matplotlib.axes._subplots.AxesSubplot at 0x1a185790>"
      ]
     },
     "execution_count": 42,
     "metadata": {},
     "output_type": "execute_result"
    },
    {
     "data": {
      "image/png": "[encoded data removed]",
      "text/plain": [
       "<Figure size 432x288 with 1 Axes>"
      ]
     },
     "metadata": {
      "needs_background": "light"
     },
     "output_type": "display_data"
    }
   ],
   "source": [
    "sns.boxplot(x=frData)"
   ]
  },
  {
   "cell_type": "markdown",
   "metadata": {},
   "source": [
    "From the box plot we can see five outliers. These outliers are caused by catchers with above (or below) average <em>perGame</em> and a high <em>totalGames</em>. So while RAA is interesting to compare catchers based on added value, there is a lot of noise introduced by multiplying <em>totalGames</em> since so many factors can influence <em>totalGames</em>. For this reason, <em>perGame</em> is probably a more direct indicator of pure framing skill of each catcher.\n",
    "\n",
    "Lets look at our top 5 catchers based on <em>perGame</em>"
   ]
  },
  {
   "cell_type": "code",
   "execution_count": 43,
   "metadata": {},
   "outputs": [
    {
     "data": {
      "text/html": [
       "<div>\n",
       "<style scoped>\n",
       "    .dataframe tbody tr th:only-of-type {\n",
       "        vertical-align: middle;\n",
       "    }\n",
       "\n",
       "    .dataframe tbody tr th {\n",
       "        vertical-align: top;\n",
       "    }\n",
       "\n",
       "    .dataframe thead th {\n",
       "        text-align: right;\n",
       "    }\n",
       "</style>\n",
       "<table border=\"1\" class=\"dataframe\">\n",
       "  <thead>\n",
       "    <tr style=\"text-align: right;\">\n",
       "      <th></th>\n",
       "      <th>mlb_id</th>\n",
       "      <th>name</th>\n",
       "      <th>perGame</th>\n",
       "      <th>RAA</th>\n",
       "    </tr>\n",
       "  </thead>\n",
       "  <tbody>\n",
       "    <tr>\n",
       "      <th>1</th>\n",
       "      <td>452095</td>\n",
       "      <td>Tyler Flowers</td>\n",
       "      <td>1.693622</td>\n",
       "      <td>79.288605</td>\n",
       "    </tr>\n",
       "    <tr>\n",
       "      <th>2</th>\n",
       "      <td>518735</td>\n",
       "      <td>Yasmani Grandal</td>\n",
       "      <td>1.563085</td>\n",
       "      <td>103.945129</td>\n",
       "    </tr>\n",
       "    <tr>\n",
       "      <th>3</th>\n",
       "      <td>425772</td>\n",
       "      <td>Jeff Mathis</td>\n",
       "      <td>1.555466</td>\n",
       "      <td>39.720388</td>\n",
       "    </tr>\n",
       "    <tr>\n",
       "      <th>4</th>\n",
       "      <td>605131</td>\n",
       "      <td>Austin Barnes</td>\n",
       "      <td>1.537278</td>\n",
       "      <td>32.099910</td>\n",
       "    </tr>\n",
       "    <tr>\n",
       "      <th>5</th>\n",
       "      <td>457763</td>\n",
       "      <td>Buster Posey</td>\n",
       "      <td>1.331269</td>\n",
       "      <td>73.833497</td>\n",
       "    </tr>\n",
       "  </tbody>\n",
       "</table>\n",
       "</div>"
      ],
      "text/plain": [
       "   mlb_id             name   perGame         RAA\n",
       "1  452095    Tyler Flowers  1.693622   79.288605\n",
       "2  518735  Yasmani Grandal  1.563085  103.945129\n",
       "3  425772      Jeff Mathis  1.555466   39.720388\n",
       "4  605131    Austin Barnes  1.537278   32.099910\n",
       "5  457763     Buster Posey  1.331269   73.833497"
      ]
     },
     "execution_count": 43,
     "metadata": {},
     "output_type": "execute_result"
    }
   ],
   "source": [
    "catcherFRpg.head(5)"
   ]
  },
  {
   "cell_type": "markdown",
   "metadata": {},
   "source": [
    "First and foremost, shoutout to my boy TFlow for repping #LosBravos and being first in <em>perGame</em> (a pitcher's best friend). \n",
    "\n",
    "Secondly, it's interesting to see two catchers with significantly higher <em>perGame</em> than Buster Posey but only have half Posey's <em>RAA</em>. To me, Posey's slightly lower <em>perGame</em> with such a high <em>RAA</em> is more impressive than Austin Barnes' or Jeff Mathis' <em>perGame</em> with low <em>RAA</em> simply because he's had to be consistently good over a long period of time to end up that high on the leaderboard. Mathias' and Barnes' haven't shown if they're capable of continuing their great frames over a longer period of time with more games. It's also important to note that Posey's <em>perGame</em> has significantly less fluctuation for each additional call than Mathias' and Barnes', that is to say, one bad streak of frames would drop Mathias' and Barnes' <em>perGame</em> much lower than that same bad streak would drop Posey.\n",
    "\n",
    "I would argue that right now Mathias' and Barnes' frames are on-level (if not better) than Posey's, but we need to see if they can keep pace over a greater number of pitches before we can conclude they're a better overall framing catcher.\n",
    "\n",
    "Let's see if our <em>perGame</em> data has any outliers."
   ]
  },
  {
   "cell_type": "code",
   "execution_count": 44,
   "metadata": {},
   "outputs": [
    {
     "data": {
      "text/plain": [
       "count    100.000000\n",
       "mean      -0.001602\n",
       "std        0.852778\n",
       "min       -3.488888\n",
       "25%       -0.605843\n",
       "50%        0.015208\n",
       "75%        0.571415\n",
       "max        1.693622\n",
       "Name: perGame, dtype: float64"
      ]
     },
     "execution_count": 44,
     "metadata": {},
     "output_type": "execute_result"
    },
    {
     "data": {
      "image/png": "[encoded data removed]",
      "text/plain": [
       "<Figure size 432x288 with 1 Axes>"
      ]
     },
     "metadata": {},
     "output_type": "display_data"
    }
   ],
   "source": [
    "sns.set(style=\"whitegrid\")\n",
    "sns.boxplot(x=catcherFR[\"perGame\"])\n",
    "catcherFR['perGame'].describe()"
   ]
  },
  {
   "cell_type": "markdown",
   "metadata": {},
   "source": [
    "<p>Looks like there is one low outlier. Who is it?</p>"
   ]
  },
  {
   "cell_type": "code",
   "execution_count": 45,
   "metadata": {},
   "outputs": [
    {
     "data": {
      "text/plain": [
       "mlb_id            541608\n",
       "name       Ramon Cabrera\n",
       "perGame         -3.48889\n",
       "RAA             -25.9852\n",
       "Name: 100, dtype: object"
      ]
     },
     "execution_count": 45,
     "metadata": {},
     "output_type": "execute_result"
    }
   ],
   "source": [
    "catcherFRpg.loc[100,:]"
   ]
  },
  {
   "cell_type": "markdown",
   "metadata": {},
   "source": [
    "<p>Ramon Cabrera gets to take home the title of worst framing catcher since 2015. Ramon's atrocious framerate also raises the question, why was his framerate so bad? His outlier framerate implies that he was behind the plate for some reason other than catching. A quick google for his hitting stats shows:</p>\n",
    "\n",
    "![ramon](ramon.png)\n",
    "\n",
    "<p>Ramon got a late call up in 2015, hit .370 in 13 games and earned himself a spot as the backup catcher in 2016 for the Reds. He caught backup most of the year in 2016 (He played 15 games in the minors), swung a weak bat, and hasn't been in the majors since. Most likely, he was never on the field to be a defensive beast of a catcher and when the bat wasn't as hot as the Reds had hoped, they released him. Ramon also barely made the cut for > 50 games caught, so if we had more data on Ramon's framerates theres a good chance his framerate would increase.</p>\n",
    "\n",
    "<p>Lets look at a histogram of our data without any outliers (sorry Ramon)</p>"
   ]
  },
  {
   "cell_type": "code",
   "execution_count": 46,
   "metadata": {},
   "outputs": [
    {
     "data": {
      "image/png": "[encoded data removed]",
      "text/plain": [
       "<Figure size 432x288 with 1 Axes>"
      ]
     },
     "metadata": {},
     "output_type": "display_data"
    }
   ],
   "source": [
    "frData = pd.Series([x for x in list(catcherFR['perGame']) if x > -3])\n",
    "graph = sns.distplot(frData, kde = False, rug = True)\n",
    "graph.set_title('perGame Histogram ( > 50 games caught )')\n",
    "graph.set_xlabel('perGame')\n",
    "graph.set_ylabel('# of Catchers')\n",
    "plt.show()"
   ]
  },
  {
   "cell_type": "markdown",
   "metadata": {},
   "source": [
    "<p>Let's overlay a density plot to see an approximate distribution of the data</p>"
   ]
  },
  {
   "cell_type": "code",
   "execution_count": 47,
   "metadata": {},
   "outputs": [
    {
     "data": {
      "image/png": "[encoded data removed]",
      "text/plain": [
       "<Figure size 432x288 with 1 Axes>"
      ]
     },
     "metadata": {},
     "output_type": "display_data"
    }
   ],
   "source": [
    "graph = sns.distplot(frData, kde = True, rug = True)\n",
    "graph.set_title('perGame Distribution ( > 50 games caught )')\n",
    "graph.set_xlabel('perGame')\n",
    "graph.set_ylabel('Portion of Dataset')\n",
    "plt.show()"
   ]
  },
  {
   "cell_type": "markdown",
   "metadata": {},
   "source": [
    "Let's overlay a normal distribution on top of our data to compare distributions"
   ]
  },
  {
   "cell_type": "code",
   "execution_count": 48,
   "metadata": {},
   "outputs": [
    {
     "data": {
      "image/png": "[encoded data removed]",
      "text/plain": [
       "<Figure size 432x288 with 1 Axes>"
      ]
     },
     "metadata": {},
     "output_type": "display_data"
    }
   ],
   "source": [
    "# Overlaying potential distributions\n",
    "graph = sns.distplot(frData, color='#0080FF', kde = True, rug = True, label='framerate') # initializing graph with framerate data\n",
    "# talk about choosing number of bins based on Freedman-Diaconis rule\n",
    "x = np.linspace (-3, 3, 1000) # creating bins for overlayed distributions\n",
    "fit_loc, fit_scale = st.norm.fit(frData) # fitting normal distribution\n",
    "y1 = st.norm.pdf(x, scale=fit_scale, loc=fit_loc)\n",
    "plt.plot(x, y1, \"g-\", label='normal') # overlaying normal distribution\n",
    "graph.set_title('perGame Distribution Overlay')\n",
    "graph.legend(loc='upper right')\n",
    "graph.set_xlabel('Frame Rate %')\n",
    "graph.set_ylabel('Portion of Dataset')\n",
    "plt.show()"
   ]
  },
  {
   "cell_type": "markdown",
   "metadata": {},
   "source": [
    "<p>The data looks almost normal, but there's a bimodal divot in the middle of our distribution. This divot is tricky because it may show that MLB catchers typically aren't just 'average', but rather that catchers tend to be either slightly above average or slightly below. Or the divot may just be caused by missing data (i.e. if we had more catchers in our dataset the divot wouldn't be here and this dataset just had an abnormally low concentration of 'average' catchers). If possible, a normal distribution would be easier to use for statistical conclusions on our dataset, even with the bimodal divot.\n",
    "\n",
    "We can use a probability plot to see if our data matches expected values for a normal distribution. The closer the data is to a y=x line, the more normal our data is.</p>"
   ]
  },
  {
   "cell_type": "code",
   "execution_count": 49,
   "metadata": {},
   "outputs": [
    {
     "data": {
      "image/png": "[encoded data removed]",
      "text/plain": [
       "<Figure size 432x288 with 1 Axes>"
      ]
     },
     "metadata": {},
     "output_type": "display_data"
    }
   ],
   "source": [
    "# probability dist plot to compare our sample to a distribution and see if similar\n",
    "st.probplot(frData, dist=\"norm\", plot=pylab)\n",
    "pylab.show()"
   ]
  },
  {
   "cell_type": "markdown",
   "metadata": {},
   "source": [
    "Our probability plot looks pretty normal, with most of the deviation away from the expected occuring at the tails of our distribution. Lets do hypothesis testing on our dataset to see if we can reject normality."
   ]
  },
  {
   "cell_type": "code",
   "execution_count": 50,
   "metadata": {},
   "outputs": [
    {
     "name": "stdout",
     "output_type": "stream",
     "text": [
      "K2 Test Results:\n",
      "\tStatistics=1.521, p=0.467\n",
      "\tSample looks Normal (fail to reject H0)\n",
      "Shapiro-Wilk Test Result:\n",
      "\tStatistics=0.989, p=0.601\n",
      "\tSample looks Normal (fail to reject H0)\n"
     ]
    }
   ],
   "source": [
    "stat, p = st.normaltest(frData)\n",
    "print('K2 Test Results:\\n\\tStatistics={}, p={}'.format(round(stat,3), round(p,3)))\n",
    "alpha = 0.05\n",
    "if p > alpha:\n",
    "    print('\\tSample looks Normal (fail to reject H0)')\n",
    "else:\n",
    "    print('\\tSample does not look Normal (reject H0)')\n",
    "stat, p = st.shapiro(frData)\n",
    "print('Shapiro-Wilk Test Result:\\n\\tStatistics={}, p={}'.format(round(stat,3), round(p,3)))\n",
    "if p > alpha:\n",
    "    print('\\tSample looks Normal (fail to reject H0)')\n",
    "else:\n",
    "    print('\\tSample does not look Normal (reject H0)')"
   ]
  },
  {
   "cell_type": "markdown",
   "metadata": {},
   "source": [
    "In layman's terms, this dataset might be normal! For the sake of time and simplicity, I'm going to assume normality on our dataset. In the long run, we would want to perform regression on our dataset and account for any noise in our data (umpire call rates, pitch type rates, etc...) to find the best distribution for this data and use that to come to statistical conclusions. Unfortunately, that data just isn't available right now, so we'll just assume normality for the time being.\n",
    "\n",
    "Let's use statistics to find a rough benchmark for the top 5% and 1% of catchers (in terms of framing) based on perGame."
   ]
  },
  {
   "cell_type": "code",
   "execution_count": 51,
   "metadata": {
    "scrolled": true
   },
   "outputs": [
    {
     "name": "stdout",
     "output_type": "stream",
     "text": [
      "\n",
      "top 5%: perGame > 1.3111\n",
      "top 1%: perGame > 1.8403\n"
     ]
    }
   ],
   "source": [
    "t95 = st.norm.ppf(.95, loc=fit_loc, scale=fit_scale)\n",
    "t99 = st.norm.ppf(.99, loc=fit_loc, scale=fit_scale)\n",
    "print('\\ntop 5%: perGame > {}'.format(round(t95,4)))\n",
    "print('top 1%: perGame > {}'.format(round(t99,4)))"
   ]
  },
  {
   "cell_type": "markdown",
   "metadata": {},
   "source": [
    "If we turn the stats back into english, we're saying that we're 99% sure that if we took every catcher in recent MLB history (lets say 2008, for the introduction of Statcast) and calculated their <em>perGame</em> over all their years of catching, there wouldn't be a catcher with a greater than 1.8403 <em>perGame</em>. Why is this important? Well if we did calculate it for every catcher since 2008 (or for every catcher going forward) and we saw a <em>perGame</em> above 1.84, we would need to have that catcher on SportsScience in a heartbeat. That catcher is doing something with his frames to seperate him from every other MLB catcher, he's a level above the rest.\n",
    "\n",
    "It's also important to recognize that my value of 1.84 is based on multiple seasons worth of data and is an attempt at getting as close as possible to career perGame for each catcher (the more pitches caught, the less the perGame moves on each extra pitch, the closer to career totals). There ARE catchers with a <em>perGame</em> > 1.84 on the season, but those same catchers in this dataset are well below 1.84. In fact, 1.84 is .15 above our best catcher, TFlow, and the next best catcher behind TFlow is still .13 behind. 1.84 seems to be a legendary mark to pass in terms of career <em>perGame</em>.\n",
    "\n",
    "To wrap up our statistical analysis, we can use Bayesian confidence intervals to come to a conlcusion about the true mean of <em>perGame</em> for every catcher since Statcast was introduced in '08."
   ]
  },
  {
   "cell_type": "code",
   "execution_count": 52,
   "metadata": {},
   "outputs": [
    {
     "name": "stdout",
     "output_type": "stream",
     "text": [
      "\n",
      "95% certain: average perGame since '08 lies between -0.1221 and 0.1893\n",
      "99% certain: average perGame since '08 lies between -0.1725 and 0.2397\n"
     ]
    }
   ],
   "source": [
    "a95 = st.bayes_mvs(frData, alpha = .95)\n",
    "a99 = st.bayes_mvs(frData, alpha = .99)\n",
    "print(\"\\n95% certain: average perGame since '08 lies between {} and {}\".format(round(a95[0][1][0],4),round(a95[0][1][1],4)))\n",
    "print(\"99% certain: average perGame since '08 lies between {} and {}\".format(round(a99[0][1][0],4),round(a99[0][1][1],4)))"
   ]
  },
  {
   "cell_type": "markdown",
   "metadata": {},
   "source": [
    "These confidence intervals pass the common sense test ('average' should be 0) and show confidence that our data is at least a good general indicator of trends in catcher framing skills, the framing skills relationship with <em>perGame</em>, and how that correlates to <em>RAA</em> for a catcher."
   ]
  },
  {
   "cell_type": "markdown",
   "metadata": {},
   "source": [
    "### extraRate by Pitch Type"
   ]
  },
  {
   "cell_type": "markdown",
   "metadata": {},
   "source": [
    "<p>First, lets import our ready made df</p>"
   ]
  },
  {
   "cell_type": "code",
   "execution_count": 53,
   "metadata": {},
   "outputs": [
    {
     "data": {
      "text/html": [
       "<div>\n",
       "<style scoped>\n",
       "    .dataframe tbody tr th:only-of-type {\n",
       "        vertical-align: middle;\n",
       "    }\n",
       "\n",
       "    .dataframe tbody tr th {\n",
       "        vertical-align: top;\n",
       "    }\n",
       "\n",
       "    .dataframe thead th {\n",
       "        text-align: right;\n",
       "    }\n",
       "</style>\n",
       "<table border=\"1\" class=\"dataframe\">\n",
       "  <thead>\n",
       "    <tr style=\"text-align: right;\">\n",
       "      <th></th>\n",
       "      <th>tBall</th>\n",
       "      <th>wStrike</th>\n",
       "      <th>tStrike</th>\n",
       "      <th>wBall</th>\n",
       "      <th>sRate</th>\n",
       "      <th>bRate</th>\n",
       "      <th>totalCalled</th>\n",
       "      <th>leagueSR</th>\n",
       "      <th>leagueBR</th>\n",
       "      <th>srDiff</th>\n",
       "      <th>brDiff</th>\n",
       "      <th>extraStr</th>\n",
       "      <th>extraBall</th>\n",
       "      <th>extraDiff</th>\n",
       "      <th>extraRate</th>\n",
       "    </tr>\n",
       "  </thead>\n",
       "  <tbody>\n",
       "    <tr>\n",
       "      <th>2-seam</th>\n",
       "      <td>118920</td>\n",
       "      <td>11521</td>\n",
       "      <td>58608</td>\n",
       "      <td>8772</td>\n",
       "      <td>0.096880</td>\n",
       "      <td>0.149672</td>\n",
       "      <td>177528.0</td>\n",
       "      <td>0.077529</td>\n",
       "      <td>0.156586</td>\n",
       "      <td>0.019351</td>\n",
       "      <td>-0.006913</td>\n",
       "      <td>2301.211369</td>\n",
       "      <td>-405.175076</td>\n",
       "      <td>2706.386445</td>\n",
       "      <td>0.015245</td>\n",
       "    </tr>\n",
       "    <tr>\n",
       "      <th>4-seam</th>\n",
       "      <td>353283</td>\n",
       "      <td>33583</td>\n",
       "      <td>183481</td>\n",
       "      <td>27936</td>\n",
       "      <td>0.095060</td>\n",
       "      <td>0.152256</td>\n",
       "      <td>536764.0</td>\n",
       "      <td>0.077529</td>\n",
       "      <td>0.156586</td>\n",
       "      <td>0.017530</td>\n",
       "      <td>-0.004330</td>\n",
       "      <td>6193.203608</td>\n",
       "      <td>-794.501980</td>\n",
       "      <td>6987.705588</td>\n",
       "      <td>0.013018</td>\n",
       "    </tr>\n",
       "    <tr>\n",
       "      <th>changeup</th>\n",
       "      <td>101096</td>\n",
       "      <td>5820</td>\n",
       "      <td>29019</td>\n",
       "      <td>4845</td>\n",
       "      <td>0.057569</td>\n",
       "      <td>0.166960</td>\n",
       "      <td>130115.0</td>\n",
       "      <td>0.077529</td>\n",
       "      <td>0.156586</td>\n",
       "      <td>-0.019960</td>\n",
       "      <td>0.010374</td>\n",
       "      <td>-2017.905747</td>\n",
       "      <td>301.039388</td>\n",
       "      <td>-2318.945135</td>\n",
       "      <td>-0.017822</td>\n",
       "    </tr>\n",
       "    <tr>\n",
       "      <th>curveball</th>\n",
       "      <td>80507</td>\n",
       "      <td>5781</td>\n",
       "      <td>44636</td>\n",
       "      <td>5996</td>\n",
       "      <td>0.071807</td>\n",
       "      <td>0.134331</td>\n",
       "      <td>125143.0</td>\n",
       "      <td>0.077529</td>\n",
       "      <td>0.156586</td>\n",
       "      <td>-0.005722</td>\n",
       "      <td>-0.022255</td>\n",
       "      <td>-460.654249</td>\n",
       "      <td>-993.359587</td>\n",
       "      <td>532.705338</td>\n",
       "      <td>0.004257</td>\n",
       "    </tr>\n",
       "    <tr>\n",
       "      <th>cutter</th>\n",
       "      <td>51060</td>\n",
       "      <td>4293</td>\n",
       "      <td>21829</td>\n",
       "      <td>3364</td>\n",
       "      <td>0.084078</td>\n",
       "      <td>0.154107</td>\n",
       "      <td>72889.0</td>\n",
       "      <td>0.077529</td>\n",
       "      <td>0.156586</td>\n",
       "      <td>0.006548</td>\n",
       "      <td>-0.002479</td>\n",
       "      <td>334.352106</td>\n",
       "      <td>-54.109383</td>\n",
       "      <td>388.461490</td>\n",
       "      <td>0.005329</td>\n",
       "    </tr>\n",
       "    <tr>\n",
       "      <th>knuckle-curve</th>\n",
       "      <td>23656</td>\n",
       "      <td>1729</td>\n",
       "      <td>14401</td>\n",
       "      <td>1947</td>\n",
       "      <td>0.073089</td>\n",
       "      <td>0.135199</td>\n",
       "      <td>38057.0</td>\n",
       "      <td>0.077529</td>\n",
       "      <td>0.156586</td>\n",
       "      <td>-0.004440</td>\n",
       "      <td>-0.021387</td>\n",
       "      <td>-105.033971</td>\n",
       "      <td>-307.990757</td>\n",
       "      <td>202.956785</td>\n",
       "      <td>0.005333</td>\n",
       "    </tr>\n",
       "    <tr>\n",
       "      <th>knuckleball</th>\n",
       "      <td>3850</td>\n",
       "      <td>296</td>\n",
       "      <td>1831</td>\n",
       "      <td>374</td>\n",
       "      <td>0.076883</td>\n",
       "      <td>0.204260</td>\n",
       "      <td>5681.0</td>\n",
       "      <td>0.077529</td>\n",
       "      <td>0.156586</td>\n",
       "      <td>-0.000646</td>\n",
       "      <td>0.047674</td>\n",
       "      <td>-2.487943</td>\n",
       "      <td>87.291572</td>\n",
       "      <td>-89.779515</td>\n",
       "      <td>-0.015803</td>\n",
       "    </tr>\n",
       "    <tr>\n",
       "      <th>sinker</th>\n",
       "      <td>84967</td>\n",
       "      <td>8596</td>\n",
       "      <td>47599</td>\n",
       "      <td>6769</td>\n",
       "      <td>0.101169</td>\n",
       "      <td>0.142209</td>\n",
       "      <td>132566.0</td>\n",
       "      <td>0.077529</td>\n",
       "      <td>0.156586</td>\n",
       "      <td>0.023639</td>\n",
       "      <td>-0.014377</td>\n",
       "      <td>2008.564912</td>\n",
       "      <td>-684.323035</td>\n",
       "      <td>2692.887947</td>\n",
       "      <td>0.020314</td>\n",
       "    </tr>\n",
       "    <tr>\n",
       "      <th>slider</th>\n",
       "      <td>144508</td>\n",
       "      <td>10238</td>\n",
       "      <td>67284</td>\n",
       "      <td>9617</td>\n",
       "      <td>0.070847</td>\n",
       "      <td>0.142931</td>\n",
       "      <td>211792.0</td>\n",
       "      <td>0.077529</td>\n",
       "      <td>0.156586</td>\n",
       "      <td>-0.006682</td>\n",
       "      <td>-0.013654</td>\n",
       "      <td>-965.609279</td>\n",
       "      <td>-918.712664</td>\n",
       "      <td>-46.896616</td>\n",
       "      <td>-0.000221</td>\n",
       "    </tr>\n",
       "    <tr>\n",
       "      <th>split-fast</th>\n",
       "      <td>14193</td>\n",
       "      <td>680</td>\n",
       "      <td>3784</td>\n",
       "      <td>696</td>\n",
       "      <td>0.047911</td>\n",
       "      <td>0.183932</td>\n",
       "      <td>17977.0</td>\n",
       "      <td>0.077529</td>\n",
       "      <td>0.156586</td>\n",
       "      <td>-0.029618</td>\n",
       "      <td>0.027347</td>\n",
       "      <td>-420.373865</td>\n",
       "      <td>103.479687</td>\n",
       "      <td>-523.853552</td>\n",
       "      <td>-0.029140</td>\n",
       "    </tr>\n",
       "  </tbody>\n",
       "</table>\n",
       "</div>"
      ],
      "text/plain": [
       "                tBall  wStrike  tStrike  wBall     sRate     bRate  \\\n",
       "2-seam         118920    11521    58608   8772  0.096880  0.149672   \n",
       "4-seam         353283    33583   183481  27936  0.095060  0.152256   \n",
       "changeup       101096     5820    29019   4845  0.057569  0.166960   \n",
       "curveball       80507     5781    44636   5996  0.071807  0.134331   \n",
       "cutter          51060     4293    21829   3364  0.084078  0.154107   \n",
       "knuckle-curve   23656     1729    14401   1947  0.073089  0.135199   \n",
       "knuckleball      3850      296     1831    374  0.076883  0.204260   \n",
       "sinker          84967     8596    47599   6769  0.101169  0.142209   \n",
       "slider         144508    10238    67284   9617  0.070847  0.142931   \n",
       "split-fast      14193      680     3784    696  0.047911  0.183932   \n",
       "\n",
       "               totalCalled  leagueSR  leagueBR    srDiff    brDiff  \\\n",
       "2-seam            177528.0  0.077529  0.156586  0.019351 -0.006913   \n",
       "4-seam            536764.0  0.077529  0.156586  0.017530 -0.004330   \n",
       "changeup          130115.0  0.077529  0.156586 -0.019960  0.010374   \n",
       "curveball         125143.0  0.077529  0.156586 -0.005722 -0.022255   \n",
       "cutter             72889.0  0.077529  0.156586  0.006548 -0.002479   \n",
       "knuckle-curve      38057.0  0.077529  0.156586 -0.004440 -0.021387   \n",
       "knuckleball         5681.0  0.077529  0.156586 -0.000646  0.047674   \n",
       "sinker            132566.0  0.077529  0.156586  0.023639 -0.014377   \n",
       "slider            211792.0  0.077529  0.156586 -0.006682 -0.013654   \n",
       "split-fast         17977.0  0.077529  0.156586 -0.029618  0.027347   \n",
       "\n",
       "                  extraStr   extraBall    extraDiff  extraRate  \n",
       "2-seam         2301.211369 -405.175076  2706.386445   0.015245  \n",
       "4-seam         6193.203608 -794.501980  6987.705588   0.013018  \n",
       "changeup      -2017.905747  301.039388 -2318.945135  -0.017822  \n",
       "curveball      -460.654249 -993.359587   532.705338   0.004257  \n",
       "cutter          334.352106  -54.109383   388.461490   0.005329  \n",
       "knuckle-curve  -105.033971 -307.990757   202.956785   0.005333  \n",
       "knuckleball      -2.487943   87.291572   -89.779515  -0.015803  \n",
       "sinker         2008.564912 -684.323035  2692.887947   0.020314  \n",
       "slider         -965.609279 -918.712664   -46.896616  -0.000221  \n",
       "split-fast     -420.373865  103.479687  -523.853552  -0.029140  "
      ]
     },
     "execution_count": 53,
     "metadata": {},
     "output_type": "execute_result"
    }
   ],
   "source": [
    "pitchFR = pd.read_csv('pitchFR.csv', index_col=0)\n",
    "pitchFR"
   ]
  },
  {
   "cell_type": "markdown",
   "metadata": {},
   "source": [
    "Now let's view a barplot of <em>extraRate</em> by pitch type."
   ]
  },
  {
   "cell_type": "code",
   "execution_count": 54,
   "metadata": {},
   "outputs": [
    {
     "data": {
      "text/plain": [
       "<matplotlib.axes._subplots.AxesSubplot at 0xf983c70>"
      ]
     },
     "execution_count": 54,
     "metadata": {},
     "output_type": "execute_result"
    },
    {
     "data": {
      "image/png": "[encoded data removed]",
      "text/plain": [
       "<Figure size 432x288 with 1 Axes>"
      ]
     },
     "metadata": {},
     "output_type": "display_data"
    }
   ],
   "source": [
    "sns.barplot(x=pitchFR.extraRate, y=pitchFR.index, orient='h')"
   ]
  },
  {
   "cell_type": "markdown",
   "metadata": {},
   "source": [
    "This bar graph plots net call rates by pitch type above the average net call rate for all pitches. This graph does <em>not</em> show which pitch is truly the hardest to frame, but rather shows that certain pitches, and the situations that they're thrown in most, have varying call rates. This leads to the question, what impacts these call rates most? \n",
    "\n",
    "Surely knuckleballs and change-ups (especially righty changeups breaking down and in on a catchers thumb) are hard for a catcher to really frame, but these pitches are typically thrown with the intent of fooling the batter into swinging (and missing of course). Is the intent of the pitch enough to drive the extra rate down well below average or are they actually that much more difficult to frame? Do lefty changeups have a higher call rate than righty changeups due to the change in direction of break?\n",
    "\n",
    "Unsurprisingly, 2-seam and 4-seam fastballs have an above average call rate. This could be attributed to how easy they are to frame (little movement) or maybe its due to pitchers hitting their spots more when they throw fastballs. Does umpire 2-strike bias drive off-speed call rates higher? Why are the sinker and split-fast, two extremely similar pitches, extreme opposites in term of extraRate? \n",
    "\n",
    "As of right now I've found no way to track umpire call rates behind the plate (Statcast no longer records who was the umpire calling pitches) and this missing data is very important for adjusting these pitch types just to framerate. If anyone knows where this data is available please contact me as I'd love to implement it and create more accurate models.\n",
    "\n",
    "\n",
    "Let's multiply each pitches' <em>extraRate</em> times <em>totalCalled</em> to weight each pitches' call rate by how often the pitch is actually utilized.\n",
    "<p>&nbsp;</p>\n",
    "\\begin{align*}\n",
    "totalExtra = extraRate * totalCalled\n",
    "\\end{align*}\n",
    "<p>&nbsp;</p>"
   ]
  },
  {
   "cell_type": "code",
   "execution_count": 55,
   "metadata": {},
   "outputs": [
    {
     "data": {
      "text/plain": [
       "<matplotlib.axes._subplots.AxesSubplot at 0x14e7530>"
      ]
     },
     "execution_count": 55,
     "metadata": {},
     "output_type": "execute_result"
    },
    {
     "data": {
      "image/png": "[encoded data removed]",
      "text/plain": [
       "<Figure size 432x288 with 1 Axes>"
      ]
     },
     "metadata": {},
     "output_type": "display_data"
    }
   ],
   "source": [
    "pitchFR['totalExtra'] = pitchFR.apply(lambda row: row.extraRate * row.totalCalled, axis=1)\n",
    "sns.barplot(x=pitchFR.totalExtra, y=pitchFR.index, orient='h')"
   ]
  },
  {
   "cell_type": "markdown",
   "metadata": {},
   "source": [
    "Just looking at this plot we can see that the 4-seam fastball, by pure volume, is a pitcher and catcher's best friend for getting added calls. It's also interesting to see the changeup have such a bad <em>extraRate</em> but still be thrown often enough to drive the <em>totalExtra</em> deep into the negatives. This just reinforces the point that pitchers (usually) aren't throwing changeups to catch batters looking. Also, split-fasts, despite being the on the extreme low end of <em>extraRate</em>, aren't thrown enough to have a huge impact on <em>totalExtra</em> like the fastball family does."
   ]
  },
  {
   "cell_type": "markdown",
   "metadata": {},
   "source": [
    "<a id='downloads'></a>\n",
    "## Download any .csv's I made in the process of creating this notebook"
   ]
  },
  {
   "cell_type": "markdown",
   "metadata": {},
   "source": [
    "<p>Download the .db file with every statcast pitch from 2008 through 2018 ( It's 2.8Gb !! ):</p>\n",
    "\n",
    "[master_statcast.db](master_statcast.db)\n",
    "\n",
    "<p>Download the fixed catcher xref .csv ( all credit to crunchtimebaseball for creating it ):</p>\n",
    "\n",
    "[playerIDxref.csv](playerIDxref.csv)\n",
    "\n",
    "<p>Download the complete catcher framerate .csv to crunch your own stats:</p>\n",
    "\n",
    "[catcherFR.csv](catcherFR.csv)\n",
    "\n",
    "[catcherFRpg.csv]('catcherFRpg.csv')\n",
    "\n",
    "<p>Download the complete pitch type framerate .csv:\n",
    "    \n",
    "[pitchFR.csv](pitchFR.csv)"
   ]
  },
  {
   "cell_type": "markdown",
   "metadata": {},
   "source": [
    "To go back to the top of this notebook, [CLICK HERE](#top)"
   ]
  }
 ],
 "metadata": {
  "kernelspec": {
   "display_name": "Python 3",
   "language": "python",
   "name": "python3"
  },
  "language_info": {
   "codemirror_mode": {
    "name": "ipython",
    "version": 3
   },
   "file_extension": ".py",
   "mimetype": "text/x-python",
   "name": "python",
   "nbconvert_exporter": "python",
   "pygments_lexer": "ipython3",
   "version": "3.7.1"
  }
 },
 "nbformat": 4,
 "nbformat_minor": 2
}
